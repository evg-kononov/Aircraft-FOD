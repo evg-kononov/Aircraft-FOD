{
 "cells": [
  {
   "cell_type": "code",
   "execution_count": 101,
   "metadata": {
    "collapsed": true
   },
   "outputs": [],
   "source": [
    "import torch\n",
    "import timm\n",
    "import pandas as pd\n",
    "import numpy as np\n",
    "import os\n",
    "from tqdm import tqdm\n",
    "from torch import nn\n",
    "from torch.utils.data import Dataset\n",
    "from torch.utils.data import DataLoader\n",
    "from torchvision import datasets, transforms\n",
    "\n",
    "from dataset import *"
   ]
  },
  {
   "cell_type": "code",
   "execution_count": 48,
   "outputs": [
    {
     "name": "stderr",
     "output_type": "stream",
     "text": [
      "C:\\Users\\conon\\anaconda3\\envs\\tf-torch\\lib\\site-packages\\torchaudio\\backend\\utils.py:62: UserWarning: No audio backend is available.\n",
      "  warnings.warn(\"No audio backend is available.\")\n"
     ]
    }
   ],
   "source": [
    "import torchmetrics"
   ],
   "metadata": {
    "collapsed": false
   }
  },
  {
   "cell_type": "code",
   "execution_count": 118,
   "outputs": [
    {
     "data": {
      "text/plain": "tensor(0.8333)"
     },
     "execution_count": 118,
     "metadata": {},
     "output_type": "execute_result"
    }
   ],
   "source": [
    "task = \"binary\"\n",
    "accuracy = torchmetrics.Accuracy(task=task, num_classes=3)\n",
    "precision = torchmetrics.Precision(task=task, num_classes=3)\n",
    "recall = torchmetrics.Recall(task=task, num_classes=3)\n",
    "f1 = torchmetrics.F1Score(task=task, num_classes=3)\n",
    "\n",
    "target = torch.tensor([[0, 1, 1], [0, 1, 0]])\n",
    "preds = torch.tensor([[0, 0, 1], [0, 1, 0]])\n",
    "accuracy(preds, target)"
   ],
   "metadata": {
    "collapsed": false
   }
  },
  {
   "cell_type": "code",
   "execution_count": 93,
   "outputs": [
    {
     "data": {
      "text/plain": "tensor([1, 0])"
     },
     "execution_count": 93,
     "metadata": {},
     "output_type": "execute_result"
    }
   ],
   "source": [
    "torch.argmax(target, dim=1)"
   ],
   "metadata": {
    "collapsed": false
   }
  },
  {
   "cell_type": "code",
   "execution_count": 137,
   "outputs": [
    {
     "data": {
      "text/plain": "torch.float32"
     },
     "execution_count": 137,
     "metadata": {},
     "output_type": "execute_result"
    }
   ],
   "source": [
    "from dataset import target_transform\n",
    "transforms.ToTensor()(train.data[0]).dtype"
   ],
   "metadata": {
    "collapsed": false
   }
  },
  {
   "cell_type": "code",
   "execution_count": 98,
   "outputs": [],
   "source": [
    "root_path = f\"C:/Users/conon/Documents/Datasets/cifar10/\"\n",
    "train_path = os.path.join(root_path, \"train\")\n",
    "val_path = os.path.join(root_path, \"test\")\n",
    "\n",
    "train_labels_path = os.path.join(root_path, \"train_labels.csv\")\n",
    "val_labels_path = os.path.join(root_path, \"test_labels.csv\")"
   ],
   "metadata": {
    "collapsed": false
   }
  },
  {
   "cell_type": "code",
   "execution_count": 138,
   "outputs": [
    {
     "name": "stdout",
     "output_type": "stream",
     "text": [
      "Files already downloaded and verified\n",
      "Files already downloaded and verified\n"
     ]
    }
   ],
   "source": [
    "train = datasets.CIFAR10(root=root_path, train=True, download=True)\n",
    "val = datasets.CIFAR10(root=root_path, train=False, download=True)\n",
    "\n",
    "for i, img in enumerate(train.data):\n",
    "     np.save(os.path.join(root_path + \"train\", str(i)), img)\n",
    "pd.DataFrame({\"label\": train.targets}).to_csv(train_labels_path, index=True)\n",
    "for i, img in enumerate(val.data):\n",
    "     np.save(os.path.join(root_path + \"test\", str(i)), img)\n",
    "pd.DataFrame({\"label\": val.targets}).to_csv(val_labels_path, index=True)"
   ],
   "metadata": {
    "collapsed": false
   }
  },
  {
   "cell_type": "code",
   "execution_count": null,
   "outputs": [],
   "source": [
    "transforms.ToTensor()"
   ],
   "metadata": {
    "collapsed": false
   }
  },
  {
   "cell_type": "code",
   "execution_count": 33,
   "outputs": [
    {
     "data": {
      "text/plain": "tensor([[0, 0, 0, 0, 1, 0, 0, 0, 0, 0]])"
     },
     "execution_count": 33,
     "metadata": {},
     "output_type": "execute_result"
    }
   ],
   "source": [
    "import torch.nn.functional as F\n",
    "F.one_hot(torch.tensor([4]), num_classes=10)"
   ],
   "metadata": {
    "collapsed": false
   }
  },
  {
   "cell_type": "code",
   "execution_count": 20,
   "outputs": [
    {
     "data": {
      "text/plain": "10"
     },
     "execution_count": 20,
     "metadata": {},
     "output_type": "execute_result"
    }
   ],
   "source": [
    "pd.read_csv(val_labels_path).nunique()[\"label\"]"
   ],
   "metadata": {
    "collapsed": false
   }
  },
  {
   "cell_type": "code",
   "execution_count": 102,
   "outputs": [],
   "source": [
    "def weights_ema(model_ema, model, decay=0.999):\n",
    "    \"\"\"\n",
    "    For visualizing and evaliating generator output at any given point during the training\n",
    "    use an exponential running average for the weights of the generator with decay 0.999.\n",
    "    \"\"\"\n",
    "    par1 = dict(model_ema.named_parameters())\n",
    "    par2 = dict(model.named_parameters())\n",
    "\n",
    "    for k in par1.keys():\n",
    "        par1[k].data.mul_(decay).add_(par2[k].data, alpha=1 - decay)\n",
    "\n",
    "\n",
    "def train(\n",
    "        train_dl,\n",
    "        val_dl,\n",
    "        model,\n",
    "        model_ema,\n",
    "        optimizer,\n",
    "        criterion,\n",
    "        num_steps,\n",
    "        batch_size,\n",
    "        device,\n",
    "        initial_step=1,\n",
    "        use_wandb=False,\n",
    "        ema_decay=0.9995,\n",
    "):\n",
    "    pbar = range(num_steps)\n",
    "    pbar = tqdm(pbar, initial=initial_step, dynamic_ncols=True)\n",
    "\n",
    "    train_dl = generator(train_dl)\n",
    "    val_dl = generator(val_dl)\n",
    "\n",
    "    for step in pbar:\n",
    "        step += initial_step\n",
    "\n",
    "        images, labels = next(train_dl)\n",
    "        images = images.to(device)\n",
    "        labels = labels.to(device)\n",
    "\n",
    "        prediction = model(images)\n",
    "        loss = criterion(labels, prediction)\n",
    "\n",
    "        optimizer.zero_grad()\n",
    "        loss.backward()\n",
    "        optimizer.step()\n",
    "\n",
    "        weights_ema(model_ema, model, ema_decay)\n",
    "\n"
   ],
   "metadata": {
    "collapsed": false
   }
  },
  {
   "cell_type": "code",
   "execution_count": 104,
   "outputs": [],
   "source": [
    "# Fine-tuning hyperparameters\n",
    "num_epochs = 30\n",
    "batch_size = 128\n",
    "learning_rate = 5e-6\n",
    "weight_decay = 1e-8\n",
    "label_smoothing = 0.1\n",
    "ema_decay = 0.9995 # TODO: добавить функцию, которая делает ema_decay\n",
    "\n",
    "# Dataset hyperparameters\n",
    "width = 32\n",
    "height = 32\n",
    "channels = 3\n",
    "num_classes = 10\n",
    "\n",
    "# Augmentation hyperparameters\n",
    "stochastic_depth_rate = [0.2, 0.4]\n",
    "data_augmentation = \"RandAugment\"\n",
    "alpha_mixup = 0.8\n",
    "alpha_cutmix = 1.0\n",
    "random_erase_prob = 0.25\n",
    "\n",
    "\n",
    "\n",
    "train_transforms = 0\n",
    "val_transforms = 0\n",
    "\n",
    "train_ds = ImageDataset(labels_file=train_labels_path, root_dir=train_path, num_classes=10)\n",
    "val_ds = ImageDataset(labels_file=val_labels_path, root_dir=val_path, num_classes=10)\n",
    "\n",
    "train_dl = DataLoader(train_ds, batch_size=batch_size, shuffle=True)\n",
    "val_dl = DataLoader(val_ds, batch_size=batch_size, shuffle=True)"
   ],
   "metadata": {
    "collapsed": false
   }
  },
  {
   "cell_type": "code",
   "execution_count": 105,
   "outputs": [
    {
     "data": {
      "text/plain": "391"
     },
     "execution_count": 105,
     "metadata": {},
     "output_type": "execute_result"
    }
   ],
   "source": [
    "len(train_dl)"
   ],
   "metadata": {
    "collapsed": false
   }
  },
  {
   "cell_type": "code",
   "execution_count": null,
   "outputs": [],
   "source": [
    "model = timm.create_model(\"fastvit_s12\", num_classes=num_classes, in_chans=channels)\n",
    "optimizer = torch.optim.AdamW(model.parameters(), lr=learning_rate, weight_decay=weight_decay)\n",
    "criterion = nn.CrossEntropyLoss(label_smoothing=label_smoothing)\n",
    "\n",
    "#for epoch in range(num_epochs):\n"
   ],
   "metadata": {
    "collapsed": false
   }
  },
  {
   "cell_type": "code",
   "execution_count": 108,
   "outputs": [
    {
     "data": {
      "text/plain": "['fastvit_ma36',\n 'fastvit_s12',\n 'fastvit_sa12',\n 'fastvit_sa24',\n 'fastvit_sa36',\n 'fastvit_t8',\n 'fastvit_t12']"
     },
     "execution_count": 108,
     "metadata": {},
     "output_type": "execute_result"
    }
   ],
   "source": [
    "timm.list_models(\"fast*\")"
   ],
   "metadata": {
    "collapsed": false
   }
  },
  {
   "cell_type": "code",
   "execution_count": 109,
   "outputs": [
    {
     "data": {
      "text/plain": "['fastvit_ma36.apple_dist_in1k',\n 'fastvit_ma36.apple_in1k',\n 'fastvit_s12.apple_dist_in1k',\n 'fastvit_s12.apple_in1k',\n 'fastvit_sa12.apple_dist_in1k',\n 'fastvit_sa12.apple_in1k',\n 'fastvit_sa24.apple_dist_in1k',\n 'fastvit_sa24.apple_in1k',\n 'fastvit_sa36.apple_dist_in1k',\n 'fastvit_sa36.apple_in1k',\n 'fastvit_t8.apple_dist_in1k',\n 'fastvit_t8.apple_in1k',\n 'fastvit_t12.apple_dist_in1k',\n 'fastvit_t12.apple_in1k']"
     },
     "execution_count": 109,
     "metadata": {},
     "output_type": "execute_result"
    }
   ],
   "source": [
    "timm.list_models(\"fast*\", pretrained=True)"
   ],
   "metadata": {
    "collapsed": false
   }
  },
  {
   "cell_type": "code",
   "execution_count": null,
   "outputs": [],
   "source": [
    "num_classes = 10\n",
    "channels = 3\n",
    "model = timm.create_model(\"fastvit_s12\", num_classes=num_classes, in_chans=channels)"
   ],
   "metadata": {
    "collapsed": false
   }
  },
  {
   "cell_type": "code",
   "execution_count": 123,
   "outputs": [
    {
     "data": {
      "text/plain": "FastVit(\n  (stem): Sequential(\n    (0): MobileOneBlock(\n      (se): Identity()\n      (conv_kxk): ModuleList(\n        (0): ConvNormAct(\n          (conv): Conv2d(3, 64, kernel_size=(3, 3), stride=(2, 2), padding=(1, 1), bias=False)\n          (bn): BatchNormAct2d(\n            64, eps=1e-05, momentum=0.1, affine=True, track_running_stats=True\n            (drop): Identity()\n            (act): Identity()\n          )\n        )\n      )\n      (conv_scale): ConvNormAct(\n        (conv): Conv2d(3, 64, kernel_size=(1, 1), stride=(2, 2), bias=False)\n        (bn): BatchNormAct2d(\n          64, eps=1e-05, momentum=0.1, affine=True, track_running_stats=True\n          (drop): Identity()\n          (act): Identity()\n        )\n      )\n      (act): GELU(approximate=none)\n    )\n    (1): MobileOneBlock(\n      (se): Identity()\n      (conv_kxk): ModuleList(\n        (0): ConvNormAct(\n          (conv): Conv2d(64, 64, kernel_size=(3, 3), stride=(2, 2), padding=(1, 1), groups=64, bias=False)\n          (bn): BatchNormAct2d(\n            64, eps=1e-05, momentum=0.1, affine=True, track_running_stats=True\n            (drop): Identity()\n            (act): Identity()\n          )\n        )\n      )\n      (conv_scale): ConvNormAct(\n        (conv): Conv2d(64, 64, kernel_size=(1, 1), stride=(2, 2), groups=64, bias=False)\n        (bn): BatchNormAct2d(\n          64, eps=1e-05, momentum=0.1, affine=True, track_running_stats=True\n          (drop): Identity()\n          (act): Identity()\n        )\n      )\n      (act): GELU(approximate=none)\n    )\n    (2): MobileOneBlock(\n      (se): Identity()\n      (identity): BatchNorm2d(64, eps=1e-05, momentum=0.1, affine=True, track_running_stats=True)\n      (conv_kxk): ModuleList(\n        (0): ConvNormAct(\n          (conv): Conv2d(64, 64, kernel_size=(1, 1), stride=(1, 1), bias=False)\n          (bn): BatchNormAct2d(\n            64, eps=1e-05, momentum=0.1, affine=True, track_running_stats=True\n            (drop): Identity()\n            (act): Identity()\n          )\n        )\n      )\n      (act): GELU(approximate=none)\n    )\n  )\n  (stages): Sequential(\n    (0): FastVitStage(\n      (downsample): Identity()\n      (pos_emb): Identity()\n      (blocks): Sequential(\n        (0): RepMixerBlock(\n          (token_mixer): RepMixer(\n            (norm): MobileOneBlock(\n              (se): Identity()\n              (identity): BatchNorm2d(64, eps=1e-05, momentum=0.1, affine=True, track_running_stats=True)\n              (act): Identity()\n            )\n            (mixer): MobileOneBlock(\n              (se): Identity()\n              (identity): BatchNorm2d(64, eps=1e-05, momentum=0.1, affine=True, track_running_stats=True)\n              (conv_kxk): ModuleList(\n                (0): ConvNormAct(\n                  (conv): Conv2d(64, 64, kernel_size=(3, 3), stride=(1, 1), padding=(1, 1), groups=64, bias=False)\n                  (bn): BatchNormAct2d(\n                    64, eps=1e-05, momentum=0.1, affine=True, track_running_stats=True\n                    (drop): Identity()\n                    (act): Identity()\n                  )\n                )\n              )\n              (conv_scale): ConvNormAct(\n                (conv): Conv2d(64, 64, kernel_size=(1, 1), stride=(1, 1), groups=64, bias=False)\n                (bn): BatchNormAct2d(\n                  64, eps=1e-05, momentum=0.1, affine=True, track_running_stats=True\n                  (drop): Identity()\n                  (act): Identity()\n                )\n              )\n              (act): Identity()\n            )\n            (layer_scale): LayerScale2d()\n          )\n          (mlp): ConvMlp(\n            (conv): ConvNormAct(\n              (conv): Conv2d(64, 64, kernel_size=(7, 7), stride=(1, 1), padding=(3, 3), groups=64, bias=False)\n              (bn): BatchNormAct2d(\n                64, eps=1e-05, momentum=0.1, affine=True, track_running_stats=True\n                (drop): Identity()\n                (act): Identity()\n              )\n            )\n            (fc1): Conv2d(64, 256, kernel_size=(1, 1), stride=(1, 1))\n            (act): GELU(approximate=none)\n            (fc2): Conv2d(256, 64, kernel_size=(1, 1), stride=(1, 1))\n            (drop): Dropout(p=0.0, inplace=False)\n          )\n          (layer_scale): LayerScale2d()\n          (drop_path): Identity()\n        )\n        (1): RepMixerBlock(\n          (token_mixer): RepMixer(\n            (norm): MobileOneBlock(\n              (se): Identity()\n              (identity): BatchNorm2d(64, eps=1e-05, momentum=0.1, affine=True, track_running_stats=True)\n              (act): Identity()\n            )\n            (mixer): MobileOneBlock(\n              (se): Identity()\n              (identity): BatchNorm2d(64, eps=1e-05, momentum=0.1, affine=True, track_running_stats=True)\n              (conv_kxk): ModuleList(\n                (0): ConvNormAct(\n                  (conv): Conv2d(64, 64, kernel_size=(3, 3), stride=(1, 1), padding=(1, 1), groups=64, bias=False)\n                  (bn): BatchNormAct2d(\n                    64, eps=1e-05, momentum=0.1, affine=True, track_running_stats=True\n                    (drop): Identity()\n                    (act): Identity()\n                  )\n                )\n              )\n              (conv_scale): ConvNormAct(\n                (conv): Conv2d(64, 64, kernel_size=(1, 1), stride=(1, 1), groups=64, bias=False)\n                (bn): BatchNormAct2d(\n                  64, eps=1e-05, momentum=0.1, affine=True, track_running_stats=True\n                  (drop): Identity()\n                  (act): Identity()\n                )\n              )\n              (act): Identity()\n            )\n            (layer_scale): LayerScale2d()\n          )\n          (mlp): ConvMlp(\n            (conv): ConvNormAct(\n              (conv): Conv2d(64, 64, kernel_size=(7, 7), stride=(1, 1), padding=(3, 3), groups=64, bias=False)\n              (bn): BatchNormAct2d(\n                64, eps=1e-05, momentum=0.1, affine=True, track_running_stats=True\n                (drop): Identity()\n                (act): Identity()\n              )\n            )\n            (fc1): Conv2d(64, 256, kernel_size=(1, 1), stride=(1, 1))\n            (act): GELU(approximate=none)\n            (fc2): Conv2d(256, 64, kernel_size=(1, 1), stride=(1, 1))\n            (drop): Dropout(p=0.0, inplace=False)\n          )\n          (layer_scale): LayerScale2d()\n          (drop_path): Identity()\n        )\n      )\n    )\n    (1): FastVitStage(\n      (downsample): PatchEmbed(\n        (proj): Sequential(\n          (0): ReparamLargeKernelConv(\n            (large_conv): ConvNormAct(\n              (conv): Conv2d(64, 128, kernel_size=(7, 7), stride=(2, 2), padding=(3, 3), groups=64, bias=False)\n              (bn): BatchNormAct2d(\n                128, eps=1e-05, momentum=0.1, affine=True, track_running_stats=True\n                (drop): Identity()\n                (act): Identity()\n              )\n            )\n            (small_conv): ConvNormAct(\n              (conv): Conv2d(64, 128, kernel_size=(3, 3), stride=(2, 2), padding=(1, 1), groups=64, bias=False)\n              (bn): BatchNormAct2d(\n                128, eps=1e-05, momentum=0.1, affine=True, track_running_stats=True\n                (drop): Identity()\n                (act): Identity()\n              )\n            )\n            (act): Identity()\n          )\n          (1): MobileOneBlock(\n            (se): Identity()\n            (identity): BatchNorm2d(128, eps=1e-05, momentum=0.1, affine=True, track_running_stats=True)\n            (conv_kxk): ModuleList(\n              (0): ConvNormAct(\n                (conv): Conv2d(128, 128, kernel_size=(1, 1), stride=(1, 1), bias=False)\n                (bn): BatchNormAct2d(\n                  128, eps=1e-05, momentum=0.1, affine=True, track_running_stats=True\n                  (drop): Identity()\n                  (act): Identity()\n                )\n              )\n            )\n            (act): GELU(approximate=none)\n          )\n        )\n      )\n      (pos_emb): Identity()\n      (blocks): Sequential(\n        (0): RepMixerBlock(\n          (token_mixer): RepMixer(\n            (norm): MobileOneBlock(\n              (se): Identity()\n              (identity): BatchNorm2d(128, eps=1e-05, momentum=0.1, affine=True, track_running_stats=True)\n              (act): Identity()\n            )\n            (mixer): MobileOneBlock(\n              (se): Identity()\n              (identity): BatchNorm2d(128, eps=1e-05, momentum=0.1, affine=True, track_running_stats=True)\n              (conv_kxk): ModuleList(\n                (0): ConvNormAct(\n                  (conv): Conv2d(128, 128, kernel_size=(3, 3), stride=(1, 1), padding=(1, 1), groups=128, bias=False)\n                  (bn): BatchNormAct2d(\n                    128, eps=1e-05, momentum=0.1, affine=True, track_running_stats=True\n                    (drop): Identity()\n                    (act): Identity()\n                  )\n                )\n              )\n              (conv_scale): ConvNormAct(\n                (conv): Conv2d(128, 128, kernel_size=(1, 1), stride=(1, 1), groups=128, bias=False)\n                (bn): BatchNormAct2d(\n                  128, eps=1e-05, momentum=0.1, affine=True, track_running_stats=True\n                  (drop): Identity()\n                  (act): Identity()\n                )\n              )\n              (act): Identity()\n            )\n            (layer_scale): LayerScale2d()\n          )\n          (mlp): ConvMlp(\n            (conv): ConvNormAct(\n              (conv): Conv2d(128, 128, kernel_size=(7, 7), stride=(1, 1), padding=(3, 3), groups=128, bias=False)\n              (bn): BatchNormAct2d(\n                128, eps=1e-05, momentum=0.1, affine=True, track_running_stats=True\n                (drop): Identity()\n                (act): Identity()\n              )\n            )\n            (fc1): Conv2d(128, 512, kernel_size=(1, 1), stride=(1, 1))\n            (act): GELU(approximate=none)\n            (fc2): Conv2d(512, 128, kernel_size=(1, 1), stride=(1, 1))\n            (drop): Dropout(p=0.0, inplace=False)\n          )\n          (layer_scale): LayerScale2d()\n          (drop_path): Identity()\n        )\n        (1): RepMixerBlock(\n          (token_mixer): RepMixer(\n            (norm): MobileOneBlock(\n              (se): Identity()\n              (identity): BatchNorm2d(128, eps=1e-05, momentum=0.1, affine=True, track_running_stats=True)\n              (act): Identity()\n            )\n            (mixer): MobileOneBlock(\n              (se): Identity()\n              (identity): BatchNorm2d(128, eps=1e-05, momentum=0.1, affine=True, track_running_stats=True)\n              (conv_kxk): ModuleList(\n                (0): ConvNormAct(\n                  (conv): Conv2d(128, 128, kernel_size=(3, 3), stride=(1, 1), padding=(1, 1), groups=128, bias=False)\n                  (bn): BatchNormAct2d(\n                    128, eps=1e-05, momentum=0.1, affine=True, track_running_stats=True\n                    (drop): Identity()\n                    (act): Identity()\n                  )\n                )\n              )\n              (conv_scale): ConvNormAct(\n                (conv): Conv2d(128, 128, kernel_size=(1, 1), stride=(1, 1), groups=128, bias=False)\n                (bn): BatchNormAct2d(\n                  128, eps=1e-05, momentum=0.1, affine=True, track_running_stats=True\n                  (drop): Identity()\n                  (act): Identity()\n                )\n              )\n              (act): Identity()\n            )\n            (layer_scale): LayerScale2d()\n          )\n          (mlp): ConvMlp(\n            (conv): ConvNormAct(\n              (conv): Conv2d(128, 128, kernel_size=(7, 7), stride=(1, 1), padding=(3, 3), groups=128, bias=False)\n              (bn): BatchNormAct2d(\n                128, eps=1e-05, momentum=0.1, affine=True, track_running_stats=True\n                (drop): Identity()\n                (act): Identity()\n              )\n            )\n            (fc1): Conv2d(128, 512, kernel_size=(1, 1), stride=(1, 1))\n            (act): GELU(approximate=none)\n            (fc2): Conv2d(512, 128, kernel_size=(1, 1), stride=(1, 1))\n            (drop): Dropout(p=0.0, inplace=False)\n          )\n          (layer_scale): LayerScale2d()\n          (drop_path): Identity()\n        )\n      )\n    )\n    (2): FastVitStage(\n      (downsample): PatchEmbed(\n        (proj): Sequential(\n          (0): ReparamLargeKernelConv(\n            (large_conv): ConvNormAct(\n              (conv): Conv2d(128, 256, kernel_size=(7, 7), stride=(2, 2), padding=(3, 3), groups=128, bias=False)\n              (bn): BatchNormAct2d(\n                256, eps=1e-05, momentum=0.1, affine=True, track_running_stats=True\n                (drop): Identity()\n                (act): Identity()\n              )\n            )\n            (small_conv): ConvNormAct(\n              (conv): Conv2d(128, 256, kernel_size=(3, 3), stride=(2, 2), padding=(1, 1), groups=128, bias=False)\n              (bn): BatchNormAct2d(\n                256, eps=1e-05, momentum=0.1, affine=True, track_running_stats=True\n                (drop): Identity()\n                (act): Identity()\n              )\n            )\n            (act): Identity()\n          )\n          (1): MobileOneBlock(\n            (se): Identity()\n            (identity): BatchNorm2d(256, eps=1e-05, momentum=0.1, affine=True, track_running_stats=True)\n            (conv_kxk): ModuleList(\n              (0): ConvNormAct(\n                (conv): Conv2d(256, 256, kernel_size=(1, 1), stride=(1, 1), bias=False)\n                (bn): BatchNormAct2d(\n                  256, eps=1e-05, momentum=0.1, affine=True, track_running_stats=True\n                  (drop): Identity()\n                  (act): Identity()\n                )\n              )\n            )\n            (act): GELU(approximate=none)\n          )\n        )\n      )\n      (pos_emb): Identity()\n      (blocks): Sequential(\n        (0): RepMixerBlock(\n          (token_mixer): RepMixer(\n            (norm): MobileOneBlock(\n              (se): Identity()\n              (identity): BatchNorm2d(256, eps=1e-05, momentum=0.1, affine=True, track_running_stats=True)\n              (act): Identity()\n            )\n            (mixer): MobileOneBlock(\n              (se): Identity()\n              (identity): BatchNorm2d(256, eps=1e-05, momentum=0.1, affine=True, track_running_stats=True)\n              (conv_kxk): ModuleList(\n                (0): ConvNormAct(\n                  (conv): Conv2d(256, 256, kernel_size=(3, 3), stride=(1, 1), padding=(1, 1), groups=256, bias=False)\n                  (bn): BatchNormAct2d(\n                    256, eps=1e-05, momentum=0.1, affine=True, track_running_stats=True\n                    (drop): Identity()\n                    (act): Identity()\n                  )\n                )\n              )\n              (conv_scale): ConvNormAct(\n                (conv): Conv2d(256, 256, kernel_size=(1, 1), stride=(1, 1), groups=256, bias=False)\n                (bn): BatchNormAct2d(\n                  256, eps=1e-05, momentum=0.1, affine=True, track_running_stats=True\n                  (drop): Identity()\n                  (act): Identity()\n                )\n              )\n              (act): Identity()\n            )\n            (layer_scale): LayerScale2d()\n          )\n          (mlp): ConvMlp(\n            (conv): ConvNormAct(\n              (conv): Conv2d(256, 256, kernel_size=(7, 7), stride=(1, 1), padding=(3, 3), groups=256, bias=False)\n              (bn): BatchNormAct2d(\n                256, eps=1e-05, momentum=0.1, affine=True, track_running_stats=True\n                (drop): Identity()\n                (act): Identity()\n              )\n            )\n            (fc1): Conv2d(256, 1024, kernel_size=(1, 1), stride=(1, 1))\n            (act): GELU(approximate=none)\n            (fc2): Conv2d(1024, 256, kernel_size=(1, 1), stride=(1, 1))\n            (drop): Dropout(p=0.0, inplace=False)\n          )\n          (layer_scale): LayerScale2d()\n          (drop_path): Identity()\n        )\n        (1): RepMixerBlock(\n          (token_mixer): RepMixer(\n            (norm): MobileOneBlock(\n              (se): Identity()\n              (identity): BatchNorm2d(256, eps=1e-05, momentum=0.1, affine=True, track_running_stats=True)\n              (act): Identity()\n            )\n            (mixer): MobileOneBlock(\n              (se): Identity()\n              (identity): BatchNorm2d(256, eps=1e-05, momentum=0.1, affine=True, track_running_stats=True)\n              (conv_kxk): ModuleList(\n                (0): ConvNormAct(\n                  (conv): Conv2d(256, 256, kernel_size=(3, 3), stride=(1, 1), padding=(1, 1), groups=256, bias=False)\n                  (bn): BatchNormAct2d(\n                    256, eps=1e-05, momentum=0.1, affine=True, track_running_stats=True\n                    (drop): Identity()\n                    (act): Identity()\n                  )\n                )\n              )\n              (conv_scale): ConvNormAct(\n                (conv): Conv2d(256, 256, kernel_size=(1, 1), stride=(1, 1), groups=256, bias=False)\n                (bn): BatchNormAct2d(\n                  256, eps=1e-05, momentum=0.1, affine=True, track_running_stats=True\n                  (drop): Identity()\n                  (act): Identity()\n                )\n              )\n              (act): Identity()\n            )\n            (layer_scale): LayerScale2d()\n          )\n          (mlp): ConvMlp(\n            (conv): ConvNormAct(\n              (conv): Conv2d(256, 256, kernel_size=(7, 7), stride=(1, 1), padding=(3, 3), groups=256, bias=False)\n              (bn): BatchNormAct2d(\n                256, eps=1e-05, momentum=0.1, affine=True, track_running_stats=True\n                (drop): Identity()\n                (act): Identity()\n              )\n            )\n            (fc1): Conv2d(256, 1024, kernel_size=(1, 1), stride=(1, 1))\n            (act): GELU(approximate=none)\n            (fc2): Conv2d(1024, 256, kernel_size=(1, 1), stride=(1, 1))\n            (drop): Dropout(p=0.0, inplace=False)\n          )\n          (layer_scale): LayerScale2d()\n          (drop_path): Identity()\n        )\n        (2): RepMixerBlock(\n          (token_mixer): RepMixer(\n            (norm): MobileOneBlock(\n              (se): Identity()\n              (identity): BatchNorm2d(256, eps=1e-05, momentum=0.1, affine=True, track_running_stats=True)\n              (act): Identity()\n            )\n            (mixer): MobileOneBlock(\n              (se): Identity()\n              (identity): BatchNorm2d(256, eps=1e-05, momentum=0.1, affine=True, track_running_stats=True)\n              (conv_kxk): ModuleList(\n                (0): ConvNormAct(\n                  (conv): Conv2d(256, 256, kernel_size=(3, 3), stride=(1, 1), padding=(1, 1), groups=256, bias=False)\n                  (bn): BatchNormAct2d(\n                    256, eps=1e-05, momentum=0.1, affine=True, track_running_stats=True\n                    (drop): Identity()\n                    (act): Identity()\n                  )\n                )\n              )\n              (conv_scale): ConvNormAct(\n                (conv): Conv2d(256, 256, kernel_size=(1, 1), stride=(1, 1), groups=256, bias=False)\n                (bn): BatchNormAct2d(\n                  256, eps=1e-05, momentum=0.1, affine=True, track_running_stats=True\n                  (drop): Identity()\n                  (act): Identity()\n                )\n              )\n              (act): Identity()\n            )\n            (layer_scale): LayerScale2d()\n          )\n          (mlp): ConvMlp(\n            (conv): ConvNormAct(\n              (conv): Conv2d(256, 256, kernel_size=(7, 7), stride=(1, 1), padding=(3, 3), groups=256, bias=False)\n              (bn): BatchNormAct2d(\n                256, eps=1e-05, momentum=0.1, affine=True, track_running_stats=True\n                (drop): Identity()\n                (act): Identity()\n              )\n            )\n            (fc1): Conv2d(256, 1024, kernel_size=(1, 1), stride=(1, 1))\n            (act): GELU(approximate=none)\n            (fc2): Conv2d(1024, 256, kernel_size=(1, 1), stride=(1, 1))\n            (drop): Dropout(p=0.0, inplace=False)\n          )\n          (layer_scale): LayerScale2d()\n          (drop_path): Identity()\n        )\n        (3): RepMixerBlock(\n          (token_mixer): RepMixer(\n            (norm): MobileOneBlock(\n              (se): Identity()\n              (identity): BatchNorm2d(256, eps=1e-05, momentum=0.1, affine=True, track_running_stats=True)\n              (act): Identity()\n            )\n            (mixer): MobileOneBlock(\n              (se): Identity()\n              (identity): BatchNorm2d(256, eps=1e-05, momentum=0.1, affine=True, track_running_stats=True)\n              (conv_kxk): ModuleList(\n                (0): ConvNormAct(\n                  (conv): Conv2d(256, 256, kernel_size=(3, 3), stride=(1, 1), padding=(1, 1), groups=256, bias=False)\n                  (bn): BatchNormAct2d(\n                    256, eps=1e-05, momentum=0.1, affine=True, track_running_stats=True\n                    (drop): Identity()\n                    (act): Identity()\n                  )\n                )\n              )\n              (conv_scale): ConvNormAct(\n                (conv): Conv2d(256, 256, kernel_size=(1, 1), stride=(1, 1), groups=256, bias=False)\n                (bn): BatchNormAct2d(\n                  256, eps=1e-05, momentum=0.1, affine=True, track_running_stats=True\n                  (drop): Identity()\n                  (act): Identity()\n                )\n              )\n              (act): Identity()\n            )\n            (layer_scale): LayerScale2d()\n          )\n          (mlp): ConvMlp(\n            (conv): ConvNormAct(\n              (conv): Conv2d(256, 256, kernel_size=(7, 7), stride=(1, 1), padding=(3, 3), groups=256, bias=False)\n              (bn): BatchNormAct2d(\n                256, eps=1e-05, momentum=0.1, affine=True, track_running_stats=True\n                (drop): Identity()\n                (act): Identity()\n              )\n            )\n            (fc1): Conv2d(256, 1024, kernel_size=(1, 1), stride=(1, 1))\n            (act): GELU(approximate=none)\n            (fc2): Conv2d(1024, 256, kernel_size=(1, 1), stride=(1, 1))\n            (drop): Dropout(p=0.0, inplace=False)\n          )\n          (layer_scale): LayerScale2d()\n          (drop_path): Identity()\n        )\n        (4): RepMixerBlock(\n          (token_mixer): RepMixer(\n            (norm): MobileOneBlock(\n              (se): Identity()\n              (identity): BatchNorm2d(256, eps=1e-05, momentum=0.1, affine=True, track_running_stats=True)\n              (act): Identity()\n            )\n            (mixer): MobileOneBlock(\n              (se): Identity()\n              (identity): BatchNorm2d(256, eps=1e-05, momentum=0.1, affine=True, track_running_stats=True)\n              (conv_kxk): ModuleList(\n                (0): ConvNormAct(\n                  (conv): Conv2d(256, 256, kernel_size=(3, 3), stride=(1, 1), padding=(1, 1), groups=256, bias=False)\n                  (bn): BatchNormAct2d(\n                    256, eps=1e-05, momentum=0.1, affine=True, track_running_stats=True\n                    (drop): Identity()\n                    (act): Identity()\n                  )\n                )\n              )\n              (conv_scale): ConvNormAct(\n                (conv): Conv2d(256, 256, kernel_size=(1, 1), stride=(1, 1), groups=256, bias=False)\n                (bn): BatchNormAct2d(\n                  256, eps=1e-05, momentum=0.1, affine=True, track_running_stats=True\n                  (drop): Identity()\n                  (act): Identity()\n                )\n              )\n              (act): Identity()\n            )\n            (layer_scale): LayerScale2d()\n          )\n          (mlp): ConvMlp(\n            (conv): ConvNormAct(\n              (conv): Conv2d(256, 256, kernel_size=(7, 7), stride=(1, 1), padding=(3, 3), groups=256, bias=False)\n              (bn): BatchNormAct2d(\n                256, eps=1e-05, momentum=0.1, affine=True, track_running_stats=True\n                (drop): Identity()\n                (act): Identity()\n              )\n            )\n            (fc1): Conv2d(256, 1024, kernel_size=(1, 1), stride=(1, 1))\n            (act): GELU(approximate=none)\n            (fc2): Conv2d(1024, 256, kernel_size=(1, 1), stride=(1, 1))\n            (drop): Dropout(p=0.0, inplace=False)\n          )\n          (layer_scale): LayerScale2d()\n          (drop_path): Identity()\n        )\n        (5): RepMixerBlock(\n          (token_mixer): RepMixer(\n            (norm): MobileOneBlock(\n              (se): Identity()\n              (identity): BatchNorm2d(256, eps=1e-05, momentum=0.1, affine=True, track_running_stats=True)\n              (act): Identity()\n            )\n            (mixer): MobileOneBlock(\n              (se): Identity()\n              (identity): BatchNorm2d(256, eps=1e-05, momentum=0.1, affine=True, track_running_stats=True)\n              (conv_kxk): ModuleList(\n                (0): ConvNormAct(\n                  (conv): Conv2d(256, 256, kernel_size=(3, 3), stride=(1, 1), padding=(1, 1), groups=256, bias=False)\n                  (bn): BatchNormAct2d(\n                    256, eps=1e-05, momentum=0.1, affine=True, track_running_stats=True\n                    (drop): Identity()\n                    (act): Identity()\n                  )\n                )\n              )\n              (conv_scale): ConvNormAct(\n                (conv): Conv2d(256, 256, kernel_size=(1, 1), stride=(1, 1), groups=256, bias=False)\n                (bn): BatchNormAct2d(\n                  256, eps=1e-05, momentum=0.1, affine=True, track_running_stats=True\n                  (drop): Identity()\n                  (act): Identity()\n                )\n              )\n              (act): Identity()\n            )\n            (layer_scale): LayerScale2d()\n          )\n          (mlp): ConvMlp(\n            (conv): ConvNormAct(\n              (conv): Conv2d(256, 256, kernel_size=(7, 7), stride=(1, 1), padding=(3, 3), groups=256, bias=False)\n              (bn): BatchNormAct2d(\n                256, eps=1e-05, momentum=0.1, affine=True, track_running_stats=True\n                (drop): Identity()\n                (act): Identity()\n              )\n            )\n            (fc1): Conv2d(256, 1024, kernel_size=(1, 1), stride=(1, 1))\n            (act): GELU(approximate=none)\n            (fc2): Conv2d(1024, 256, kernel_size=(1, 1), stride=(1, 1))\n            (drop): Dropout(p=0.0, inplace=False)\n          )\n          (layer_scale): LayerScale2d()\n          (drop_path): Identity()\n        )\n      )\n    )\n    (3): FastVitStage(\n      (downsample): PatchEmbed(\n        (proj): Sequential(\n          (0): ReparamLargeKernelConv(\n            (large_conv): ConvNormAct(\n              (conv): Conv2d(256, 512, kernel_size=(7, 7), stride=(2, 2), padding=(3, 3), groups=256, bias=False)\n              (bn): BatchNormAct2d(\n                512, eps=1e-05, momentum=0.1, affine=True, track_running_stats=True\n                (drop): Identity()\n                (act): Identity()\n              )\n            )\n            (small_conv): ConvNormAct(\n              (conv): Conv2d(256, 512, kernel_size=(3, 3), stride=(2, 2), padding=(1, 1), groups=256, bias=False)\n              (bn): BatchNormAct2d(\n                512, eps=1e-05, momentum=0.1, affine=True, track_running_stats=True\n                (drop): Identity()\n                (act): Identity()\n              )\n            )\n            (act): Identity()\n          )\n          (1): MobileOneBlock(\n            (se): Identity()\n            (identity): BatchNorm2d(512, eps=1e-05, momentum=0.1, affine=True, track_running_stats=True)\n            (conv_kxk): ModuleList(\n              (0): ConvNormAct(\n                (conv): Conv2d(512, 512, kernel_size=(1, 1), stride=(1, 1), bias=False)\n                (bn): BatchNormAct2d(\n                  512, eps=1e-05, momentum=0.1, affine=True, track_running_stats=True\n                  (drop): Identity()\n                  (act): Identity()\n                )\n              )\n            )\n            (act): GELU(approximate=none)\n          )\n        )\n      )\n      (pos_emb): Identity()\n      (blocks): Sequential(\n        (0): RepMixerBlock(\n          (token_mixer): RepMixer(\n            (norm): MobileOneBlock(\n              (se): Identity()\n              (identity): BatchNorm2d(512, eps=1e-05, momentum=0.1, affine=True, track_running_stats=True)\n              (act): Identity()\n            )\n            (mixer): MobileOneBlock(\n              (se): Identity()\n              (identity): BatchNorm2d(512, eps=1e-05, momentum=0.1, affine=True, track_running_stats=True)\n              (conv_kxk): ModuleList(\n                (0): ConvNormAct(\n                  (conv): Conv2d(512, 512, kernel_size=(3, 3), stride=(1, 1), padding=(1, 1), groups=512, bias=False)\n                  (bn): BatchNormAct2d(\n                    512, eps=1e-05, momentum=0.1, affine=True, track_running_stats=True\n                    (drop): Identity()\n                    (act): Identity()\n                  )\n                )\n              )\n              (conv_scale): ConvNormAct(\n                (conv): Conv2d(512, 512, kernel_size=(1, 1), stride=(1, 1), groups=512, bias=False)\n                (bn): BatchNormAct2d(\n                  512, eps=1e-05, momentum=0.1, affine=True, track_running_stats=True\n                  (drop): Identity()\n                  (act): Identity()\n                )\n              )\n              (act): Identity()\n            )\n            (layer_scale): LayerScale2d()\n          )\n          (mlp): ConvMlp(\n            (conv): ConvNormAct(\n              (conv): Conv2d(512, 512, kernel_size=(7, 7), stride=(1, 1), padding=(3, 3), groups=512, bias=False)\n              (bn): BatchNormAct2d(\n                512, eps=1e-05, momentum=0.1, affine=True, track_running_stats=True\n                (drop): Identity()\n                (act): Identity()\n              )\n            )\n            (fc1): Conv2d(512, 2048, kernel_size=(1, 1), stride=(1, 1))\n            (act): GELU(approximate=none)\n            (fc2): Conv2d(2048, 512, kernel_size=(1, 1), stride=(1, 1))\n            (drop): Dropout(p=0.0, inplace=False)\n          )\n          (layer_scale): LayerScale2d()\n          (drop_path): Identity()\n        )\n        (1): RepMixerBlock(\n          (token_mixer): RepMixer(\n            (norm): MobileOneBlock(\n              (se): Identity()\n              (identity): BatchNorm2d(512, eps=1e-05, momentum=0.1, affine=True, track_running_stats=True)\n              (act): Identity()\n            )\n            (mixer): MobileOneBlock(\n              (se): Identity()\n              (identity): BatchNorm2d(512, eps=1e-05, momentum=0.1, affine=True, track_running_stats=True)\n              (conv_kxk): ModuleList(\n                (0): ConvNormAct(\n                  (conv): Conv2d(512, 512, kernel_size=(3, 3), stride=(1, 1), padding=(1, 1), groups=512, bias=False)\n                  (bn): BatchNormAct2d(\n                    512, eps=1e-05, momentum=0.1, affine=True, track_running_stats=True\n                    (drop): Identity()\n                    (act): Identity()\n                  )\n                )\n              )\n              (conv_scale): ConvNormAct(\n                (conv): Conv2d(512, 512, kernel_size=(1, 1), stride=(1, 1), groups=512, bias=False)\n                (bn): BatchNormAct2d(\n                  512, eps=1e-05, momentum=0.1, affine=True, track_running_stats=True\n                  (drop): Identity()\n                  (act): Identity()\n                )\n              )\n              (act): Identity()\n            )\n            (layer_scale): LayerScale2d()\n          )\n          (mlp): ConvMlp(\n            (conv): ConvNormAct(\n              (conv): Conv2d(512, 512, kernel_size=(7, 7), stride=(1, 1), padding=(3, 3), groups=512, bias=False)\n              (bn): BatchNormAct2d(\n                512, eps=1e-05, momentum=0.1, affine=True, track_running_stats=True\n                (drop): Identity()\n                (act): Identity()\n              )\n            )\n            (fc1): Conv2d(512, 2048, kernel_size=(1, 1), stride=(1, 1))\n            (act): GELU(approximate=none)\n            (fc2): Conv2d(2048, 512, kernel_size=(1, 1), stride=(1, 1))\n            (drop): Dropout(p=0.0, inplace=False)\n          )\n          (layer_scale): LayerScale2d()\n          (drop_path): Identity()\n        )\n      )\n    )\n  )\n  (final_conv): MobileOneBlock(\n    (se): SEModule(\n      (fc1): Conv2d(1024, 64, kernel_size=(1, 1), stride=(1, 1))\n      (bn): Identity()\n      (act): ReLU(inplace=True)\n      (fc2): Conv2d(64, 1024, kernel_size=(1, 1), stride=(1, 1))\n      (gate): Sigmoid()\n    )\n    (conv_kxk): ModuleList(\n      (0): ConvNormAct(\n        (conv): Conv2d(512, 1024, kernel_size=(3, 3), stride=(1, 1), padding=(1, 1), groups=512, bias=False)\n        (bn): BatchNormAct2d(\n          1024, eps=1e-05, momentum=0.1, affine=True, track_running_stats=True\n          (drop): Identity()\n          (act): Identity()\n        )\n      )\n    )\n    (conv_scale): ConvNormAct(\n      (conv): Conv2d(512, 1024, kernel_size=(1, 1), stride=(1, 1), groups=512, bias=False)\n      (bn): BatchNormAct2d(\n        1024, eps=1e-05, momentum=0.1, affine=True, track_running_stats=True\n        (drop): Identity()\n        (act): Identity()\n      )\n    )\n    (act): GELU(approximate=none)\n  )\n  (head): ClassifierHead(\n    (global_pool): SelectAdaptivePool2d (pool_type=avg, flatten=Flatten(start_dim=1, end_dim=-1))\n    (drop): Dropout(p=0.0, inplace=False)\n    (fc): Sequential(\n      (0): BatchNorm1d(1024, eps=1e-05, momentum=0.1, affine=True, track_running_stats=True)\n      (1): Linear(in_features=1024, out_features=512, bias=False)\n      (2): ReLU()\n      (3): BatchNorm1d(512, eps=1e-05, momentum=0.1, affine=True, track_running_stats=True)\n      (4): Dropout(p=0.5, inplace=False)\n      (5): Linear(in_features=512, out_features=10, bias=False)\n    )\n    (flatten): Identity()\n  )\n)"
     },
     "execution_count": 123,
     "metadata": {},
     "output_type": "execute_result"
    }
   ],
   "source": [
    "model"
   ],
   "metadata": {
    "collapsed": false
   }
  },
  {
   "cell_type": "code",
   "execution_count": 119,
   "outputs": [
    {
     "data": {
      "text/plain": "{'url': '',\n 'hf_hub_id': 'timm/fastvit_s12.apple_in1k',\n 'architecture': 'fastvit_s12',\n 'tag': 'apple_in1k',\n 'custom_load': False,\n 'input_size': (3, 256, 256),\n 'fixed_input_size': False,\n 'interpolation': 'bicubic',\n 'crop_pct': 0.9,\n 'crop_mode': 'center',\n 'mean': (0.485, 0.456, 0.406),\n 'std': (0.229, 0.224, 0.225),\n 'num_classes': 1000,\n 'pool_size': (8, 8),\n 'first_conv': ('stem.0.conv_kxk.0.conv', 'stem.0.conv_scale.conv'),\n 'classifier': 'head.fc'}"
     },
     "execution_count": 119,
     "metadata": {},
     "output_type": "execute_result"
    }
   ],
   "source": [
    "model.default_cfg"
   ],
   "metadata": {
    "collapsed": false
   }
  },
  {
   "cell_type": "code",
   "execution_count": 125,
   "outputs": [
    {
     "data": {
      "text/plain": "tensor([[ 1.3654e-04, -6.3149e-05,  2.3090e-04, -1.4228e-04,  1.0160e-04,\n         -4.9103e-04, -7.2727e-05,  1.5651e-04,  2.0577e-04,  3.3913e-04]],\n       grad_fn=<MmBackward0>)"
     },
     "execution_count": 125,
     "metadata": {},
     "output_type": "execute_result"
    }
   ],
   "source": [
    "model(torch.randn((1, 3, 32, 32)))"
   ],
   "metadata": {
    "collapsed": false
   }
  },
  {
   "cell_type": "code",
   "execution_count": 122,
   "outputs": [
    {
     "data": {
      "text/plain": "ClassifierHead(\n  (global_pool): SelectAdaptivePool2d (pool_type=avg, flatten=Flatten(start_dim=1, end_dim=-1))\n  (drop): Dropout(p=0.0, inplace=False)\n  (fc): Sequential(\n    (0): BatchNorm1d(1024, eps=1e-05, momentum=0.1, affine=True, track_running_stats=True)\n    (1): Linear(in_features=1024, out_features=512, bias=False)\n    (2): ReLU()\n    (3): BatchNorm1d(512, eps=1e-05, momentum=0.1, affine=True, track_running_stats=True)\n    (4): Dropout(p=0.5, inplace=False)\n    (5): Linear(in_features=512, out_features=10, bias=False)\n  )\n  (flatten): Identity()\n)"
     },
     "execution_count": 122,
     "metadata": {},
     "output_type": "execute_result"
    }
   ],
   "source": [
    "model.head"
   ],
   "metadata": {
    "collapsed": false
   }
  },
  {
   "cell_type": "code",
   "execution_count": 113,
   "outputs": [],
   "source": [
    "# Custom final layer\n",
    "num_in_features = model.get_classifier().in_features\n",
    "model.head.fc = nn.Sequential(\n",
    "    nn.BatchNorm1d(num_in_features),\n",
    "    nn.Linear(in_features=num_in_features, out_features=512, bias=False),\n",
    "    nn.ReLU(),\n",
    "    nn.BatchNorm1d(512),\n",
    "    nn.Dropout(0.5),\n",
    "    nn.Linear(in_features=512, out_features=num_classes, bias=False)\n",
    ")"
   ],
   "metadata": {
    "collapsed": false
   }
  },
  {
   "cell_type": "code",
   "execution_count": 114,
   "outputs": [
    {
     "data": {
      "text/plain": "torch.Size([1, 10])"
     },
     "execution_count": 114,
     "metadata": {},
     "output_type": "execute_result"
    }
   ],
   "source": [
    "model.eval()\n",
    "model(torch.randn(1, 3, 256, 256)).shape"
   ],
   "metadata": {
    "collapsed": false
   }
  },
  {
   "cell_type": "code",
   "execution_count": 115,
   "outputs": [
    {
     "data": {
      "text/plain": "[{'num_chs': 64, 'reduction': 4, 'module': 'stages.0'},\n {'num_chs': 128, 'reduction': 8, 'module': 'stages.1'},\n {'num_chs': 256, 'reduction': 16, 'module': 'stages.2'},\n {'num_chs': 512, 'reduction': 32, 'module': 'stages.3'}]"
     },
     "execution_count": 115,
     "metadata": {},
     "output_type": "execute_result"
    }
   ],
   "source": [
    "model.feature_info"
   ],
   "metadata": {
    "collapsed": false
   }
  },
  {
   "cell_type": "code",
   "execution_count": 43,
   "outputs": [],
   "source": [
    "# Exporting to TorchScript\n",
    "model = timm.create_model(\"fastvit_s12\", scriptable=True)\n",
    "model.eval()\n",
    "scripted_model = torch.jit.script(model)"
   ],
   "metadata": {
    "collapsed": false
   }
  },
  {
   "cell_type": "code",
   "execution_count": 45,
   "outputs": [
    {
     "data": {
      "text/plain": "5e-06"
     },
     "execution_count": 45,
     "metadata": {},
     "output_type": "execute_result"
    }
   ],
   "source": [
    "5e-6"
   ],
   "metadata": {
    "collapsed": false
   }
  },
  {
   "cell_type": "code",
   "execution_count": null,
   "outputs": [],
   "source": [],
   "metadata": {
    "collapsed": false
   }
  }
 ],
 "metadata": {
  "kernelspec": {
   "display_name": "Python 3",
   "language": "python",
   "name": "python3"
  },
  "language_info": {
   "codemirror_mode": {
    "name": "ipython",
    "version": 2
   },
   "file_extension": ".py",
   "mimetype": "text/x-python",
   "name": "python",
   "nbconvert_exporter": "python",
   "pygments_lexer": "ipython2",
   "version": "2.7.6"
  }
 },
 "nbformat": 4,
 "nbformat_minor": 0
}
