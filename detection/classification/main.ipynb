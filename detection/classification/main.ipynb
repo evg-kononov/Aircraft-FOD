{
 "cells": [
  {
   "cell_type": "code",
   "execution_count": 1,
   "metadata": {
    "collapsed": true
   },
   "outputs": [
    {
     "name": "stderr",
     "output_type": "stream",
     "text": [
      "C:\\Users\\admin\\anaconda3\\envs\\tf-torch\\lib\\site-packages\\tqdm\\auto.py:22: TqdmWarning: IProgress not found. Please update jupyter and ipywidgets. See https://ipywidgets.readthedocs.io/en/stable/user_install.html\n",
      "  from .autonotebook import tqdm as notebook_tqdm\n"
     ]
    }
   ],
   "source": [
    "import torch\n",
    "import torchinfo\n",
    "import timm\n",
    "import pandas as pd\n",
    "import numpy as np\n",
    "import os\n",
    "from tqdm import tqdm\n",
    "from torch import nn\n",
    "from torch.utils.data import Dataset\n",
    "from torch.utils.data import DataLoader\n",
    "from torchvision import datasets, transforms\n",
    "\n",
    "from dataset import *"
   ]
  },
  {
   "cell_type": "code",
   "execution_count": 273,
   "outputs": [],
   "source": [
    "import torchmetrics"
   ],
   "metadata": {
    "collapsed": false
   }
  },
  {
   "cell_type": "code",
   "execution_count": 355,
   "outputs": [],
   "source": [
    "task = \"multiclass\"\n",
    "top_k = 1\n",
    "accuracy = torchmetrics.classification.Accuracy(task=task, threshold=0.5, num_classes=10, top_k=top_k).to(\"cuda\")\n",
    "precision = torchmetrics.Precision(task=task, threshold=0.5, num_classes=10, top_k=top_k).to(\"cuda\")\n",
    "recall = torchmetrics.Recall(task=task, threshold=0.5, num_classes=10, top_k=top_k).to(\"cuda\")\n",
    "f1 = torchmetrics.F1Score(task=task, threshold=0.5, num_classes=10, top_k=top_k).to(\"cuda\")\n",
    "stat = torchmetrics.StatScores(task=task, threshold=0.5, num_classes=10, top_k=top_k).to(\"cuda\")"
   ],
   "metadata": {
    "collapsed": false
   }
  },
  {
   "cell_type": "code",
   "execution_count": 356,
   "outputs": [
    {
     "name": "stdout",
     "output_type": "stream",
     "text": [
      "tensor([ 1,  9, 81,  9, 10], device='cuda:0')\n",
      "tensor(0.1000, device='cuda:0')\n",
      "tensor(0.1000, device='cuda:0')\n",
      "tensor(0.1000, device='cuda:0')\n",
      "tensor(0.1000, device='cuda:0')\n"
     ]
    }
   ],
   "source": [
    "preds = torch.tensor([[-0.0129, -0.3175, -0.0683,  0.2080,  0.1129,  0.0553,  0.0140,  0.0251,\n",
    "         -0.1527,  0.0622],\n",
    "        [ 0.1304,  0.1785,  0.0883,  0.5066, -0.1161, -0.1496, -0.2035,  0.0709,\n",
    "          0.2420,  0.3981],\n",
    "        [-0.0213, -0.0850, -0.1686,  0.1521,  0.2414, -0.0275,  0.0066,  0.1848,\n",
    "         -0.1766,  0.0321],\n",
    "        [ 0.3734,  0.3885, -0.2002, -0.3148, -0.2604,  0.3571, -0.7075, -0.2140,\n",
    "          0.2051,  0.7275],\n",
    "        [-0.1535, -0.1203, -0.0069,  0.2753,  0.3317, -0.3602, -0.1358,  0.1422,\n",
    "         -0.0302,  0.3005],\n",
    "        [ 0.2874,  0.1921,  0.2205,  0.3036, -0.1055, -0.1325,  0.0322,  0.4317,\n",
    "          0.1032, -0.0067],\n",
    "        [ 0.0414, -0.1034, -0.1293,  0.0489,  0.3273,  0.1023, -0.1438,  0.1175,\n",
    "         -0.0843,  0.1121],\n",
    "        [-0.1684, -0.0975, -0.1321,  0.1957,  0.1615,  0.1282, -0.2379,  0.0721,\n",
    "         -0.1267,  0.1032],\n",
    "        [ 0.0425, -0.1601, -0.0020,  0.1313,  0.1604,  0.1026,  0.0792,  0.1182,\n",
    "         -0.0664,  0.0552],\n",
    "        [-0.0258, -0.2268, -0.0416,  0.0605,  0.1985,  0.0211, -0.2180,  0.1641,\n",
    "         -0.0347, -0.0319]]).to(\"cuda\")\n",
    "target = torch.tensor([3, 7, 0, 1, 3, 8, 9, 8, 3, 6]).to(\"cuda\")\n",
    "print(stat(preds, target))\n",
    "print(accuracy(preds, target))\n",
    "print(precision(preds, target))\n",
    "print(recall(preds, target))\n",
    "print(f1(preds, target))"
   ],
   "metadata": {
    "collapsed": false
   }
  },
  {
   "cell_type": "code",
   "execution_count": 351,
   "outputs": [
    {
     "name": "stdout",
     "output_type": "stream",
     "text": [
      "tensor([ 4, 46, 44,  6, 10], device='cuda:0')\n",
      "tensor(0.4000, device='cuda:0')\n",
      "tensor(0.0800, device='cuda:0')\n",
      "tensor(0.4000, device='cuda:0')\n",
      "tensor(0.1333, device='cuda:0')\n"
     ]
    }
   ],
   "source": [
    "print(stat.compute())\n",
    "print(accuracy.compute())\n",
    "print(precision.compute())\n",
    "print(recall.compute())\n",
    "print(f1.compute())"
   ],
   "metadata": {
    "collapsed": false
   }
  },
  {
   "cell_type": "code",
   "execution_count": 276,
   "outputs": [],
   "source": [
    "root_path = f\"C:/Users/conon/Documents/Datasets/cifar10/\"\n",
    "train_path = os.path.join(root_path, \"train\")\n",
    "val_path = os.path.join(root_path, \"test\")\n",
    "\n",
    "train_labels_path = os.path.join(root_path, \"train_labels.csv\")\n",
    "val_labels_path = os.path.join(root_path, \"test_labels.csv\")"
   ],
   "metadata": {
    "collapsed": false
   }
  },
  {
   "cell_type": "code",
   "execution_count": 138,
   "outputs": [
    {
     "name": "stdout",
     "output_type": "stream",
     "text": [
      "Files already downloaded and verified\n",
      "Files already downloaded and verified\n"
     ]
    }
   ],
   "source": [
    "train = datasets.CIFAR10(root=root_path, train=True, download=True)\n",
    "val = datasets.CIFAR10(root=root_path, train=False, download=True)\n",
    "\n",
    "for i, img in enumerate(train.data):\n",
    "     np.save(os.path.join(root_path + \"train\", str(i)), img)\n",
    "pd.DataFrame({\"label\": train.targets}).to_csv(train_labels_path, index=True)\n",
    "for i, img in enumerate(val.data):\n",
    "     np.save(os.path.join(root_path + \"test\", str(i)), img)\n",
    "pd.DataFrame({\"label\": val.targets}).to_csv(val_labels_path, index=True)"
   ],
   "metadata": {
    "collapsed": false
   }
  },
  {
   "cell_type": "code",
   "execution_count": 166,
   "outputs": [
    {
     "data": {
      "text/plain": "['vgg11.tv_in1k',\n 'vgg11_bn.tv_in1k',\n 'vgg13.tv_in1k',\n 'vgg13_bn.tv_in1k',\n 'vgg16.tv_in1k',\n 'vgg16_bn.tv_in1k',\n 'vgg19.tv_in1k',\n 'vgg19_bn.tv_in1k']"
     },
     "execution_count": 166,
     "metadata": {},
     "output_type": "execute_result"
    }
   ],
   "source": [
    "timm.list_models(\"vgg*\", pretrained=True)"
   ],
   "metadata": {
    "collapsed": false
   }
  },
  {
   "cell_type": "code",
   "execution_count": 184,
   "outputs": [
    {
     "name": "stderr",
     "output_type": "stream",
     "text": [
      "model.safetensors: 100%|██████████| 86.6M/86.6M [00:09<00:00, 8.74MB/s]\n"
     ]
    }
   ],
   "source": [
    "model = timm.create_model(\"fastvit_sa24\", pretrained=True, num_classes=10, in_chans=3)"
   ],
   "metadata": {
    "collapsed": false
   }
  },
  {
   "cell_type": "code",
   "execution_count": null,
   "outputs": [],
   "source": [],
   "metadata": {
    "collapsed": false
   }
  },
  {
   "cell_type": "code",
   "execution_count": 185,
   "outputs": [
    {
     "data": {
      "text/plain": "========================================================================================================================\nLayer (type:depth-idx)                                                 Output Shape              Param #\n========================================================================================================================\nFastVit                                                                [1, 10]                   --\n├─Sequential: 1-1                                                      [1, 64, 8, 8]             --\n│    └─MobileOneBlock: 2-1                                             [1, 64, 16, 16]           --\n│    │    └─ConvNormAct: 3-1                                           [1, 64, 16, 16]           --\n│    │    │    └─Conv2d: 4-1                                           [1, 64, 16, 16]           192\n│    │    │    └─BatchNormAct2d: 4-2                                   [1, 64, 16, 16]           128\n│    │    │    │    └─Identity: 5-1                                    [1, 64, 16, 16]           --\n│    │    │    │    └─Identity: 5-2                                    [1, 64, 16, 16]           --\n│    │    └─ModuleList: 3-2                                            --                        --\n│    │    │    └─ConvNormAct: 4-3                                      [1, 64, 16, 16]           --\n│    │    │    │    └─Conv2d: 5-3                                      [1, 64, 16, 16]           1,728\n│    │    │    │    └─BatchNormAct2d: 5-4                              [1, 64, 16, 16]           128\n│    │    └─Identity: 3-3                                              [1, 64, 16, 16]           --\n│    │    └─GELU: 3-4                                                  [1, 64, 16, 16]           --\n│    └─MobileOneBlock: 2-2                                             [1, 64, 8, 8]             --\n│    │    └─ConvNormAct: 3-5                                           [1, 64, 8, 8]             --\n│    │    │    └─Conv2d: 4-4                                           [1, 64, 8, 8]             64\n│    │    │    └─BatchNormAct2d: 4-5                                   [1, 64, 8, 8]             128\n│    │    │    │    └─Identity: 5-5                                    [1, 64, 8, 8]             --\n│    │    │    │    └─Identity: 5-6                                    [1, 64, 8, 8]             --\n│    │    └─ModuleList: 3-6                                            --                        --\n│    │    │    └─ConvNormAct: 4-6                                      [1, 64, 8, 8]             --\n│    │    │    │    └─Conv2d: 5-7                                      [1, 64, 8, 8]             576\n│    │    │    │    └─BatchNormAct2d: 5-8                              [1, 64, 8, 8]             128\n│    │    └─Identity: 3-7                                              [1, 64, 8, 8]             --\n│    │    └─GELU: 3-8                                                  [1, 64, 8, 8]             --\n│    └─MobileOneBlock: 2-3                                             [1, 64, 8, 8]             --\n│    │    └─BatchNorm2d: 3-9                                           [1, 64, 8, 8]             128\n│    │    └─ModuleList: 3-10                                           --                        --\n│    │    │    └─ConvNormAct: 4-7                                      [1, 64, 8, 8]             --\n│    │    │    │    └─Conv2d: 5-9                                      [1, 64, 8, 8]             4,096\n│    │    │    │    └─BatchNormAct2d: 5-10                             [1, 64, 8, 8]             128\n│    │    └─Identity: 3-11                                             [1, 64, 8, 8]             --\n│    │    └─GELU: 3-12                                                 [1, 64, 8, 8]             --\n├─Sequential: 1-2                                                      --                        --\n│    └─FastVitStage: 2-4                                               [1, 64, 8, 8]             --\n│    │    └─Identity: 3-13                                             [1, 64, 8, 8]             --\n│    │    └─Identity: 3-14                                             [1, 64, 8, 8]             --\n│    │    └─Sequential: 3-15                                           [1, 64, 8, 8]             --\n│    │    │    └─RepMixerBlock: 4-8                                    [1, 64, 8, 8]             --\n│    │    │    │    └─RepMixer: 5-11                                   [1, 64, 8, 8]             1,216\n│    │    │    │    └─ConvMlp: 5-12                                    [1, 64, 8, 8]             36,352\n│    │    │    │    └─LayerScale2d: 5-13                               [1, 64, 8, 8]             64\n│    │    │    │    └─Identity: 5-14                                   [1, 64, 8, 8]             --\n│    │    │    └─RepMixerBlock: 4-9                                    [1, 64, 8, 8]             --\n│    │    │    │    └─RepMixer: 5-15                                   [1, 64, 8, 8]             1,216\n│    │    │    │    └─ConvMlp: 5-16                                    [1, 64, 8, 8]             36,352\n│    │    │    │    └─LayerScale2d: 5-17                               [1, 64, 8, 8]             64\n│    │    │    │    └─Identity: 5-18                                   [1, 64, 8, 8]             --\n│    │    │    └─RepMixerBlock: 4-10                                   [1, 64, 8, 8]             --\n│    │    │    │    └─RepMixer: 5-19                                   [1, 64, 8, 8]             1,216\n│    │    │    │    └─ConvMlp: 5-20                                    [1, 64, 8, 8]             36,352\n│    │    │    │    └─LayerScale2d: 5-21                               [1, 64, 8, 8]             64\n│    │    │    │    └─Identity: 5-22                                   [1, 64, 8, 8]             --\n│    │    │    └─RepMixerBlock: 4-11                                   [1, 64, 8, 8]             --\n│    │    │    │    └─RepMixer: 5-23                                   [1, 64, 8, 8]             1,216\n│    │    │    │    └─ConvMlp: 5-24                                    [1, 64, 8, 8]             36,352\n│    │    │    │    └─LayerScale2d: 5-25                               [1, 64, 8, 8]             64\n│    │    │    │    └─Identity: 5-26                                   [1, 64, 8, 8]             --\n│    └─FastVitStage: 2-5                                               [1, 128, 4, 4]            --\n│    │    └─PatchEmbed: 3-16                                           [1, 128, 4, 4]            --\n│    │    │    └─Sequential: 4-12                                      [1, 128, 4, 4]            --\n│    │    │    │    └─ReparamLargeKernelConv: 5-27                     [1, 128, 4, 4]            7,936\n│    │    │    │    └─MobileOneBlock: 5-28                             [1, 128, 4, 4]            16,896\n│    │    └─Identity: 3-17                                             [1, 128, 4, 4]            --\n│    │    └─Sequential: 3-18                                           [1, 128, 4, 4]            --\n│    │    │    └─RepMixerBlock: 4-13                                   [1, 128, 4, 4]            --\n│    │    │    │    └─RepMixer: 5-29                                   [1, 128, 4, 4]            2,432\n│    │    │    │    └─ConvMlp: 5-30                                    [1, 128, 4, 4]            138,240\n│    │    │    │    └─LayerScale2d: 5-31                               [1, 128, 4, 4]            128\n│    │    │    │    └─Identity: 5-32                                   [1, 128, 4, 4]            --\n│    │    │    └─RepMixerBlock: 4-14                                   [1, 128, 4, 4]            --\n│    │    │    │    └─RepMixer: 5-33                                   [1, 128, 4, 4]            2,432\n│    │    │    │    └─ConvMlp: 5-34                                    [1, 128, 4, 4]            138,240\n│    │    │    │    └─LayerScale2d: 5-35                               [1, 128, 4, 4]            128\n│    │    │    │    └─Identity: 5-36                                   [1, 128, 4, 4]            --\n│    │    │    └─RepMixerBlock: 4-15                                   [1, 128, 4, 4]            --\n│    │    │    │    └─RepMixer: 5-37                                   [1, 128, 4, 4]            2,432\n│    │    │    │    └─ConvMlp: 5-38                                    [1, 128, 4, 4]            138,240\n│    │    │    │    └─LayerScale2d: 5-39                               [1, 128, 4, 4]            128\n│    │    │    │    └─Identity: 5-40                                   [1, 128, 4, 4]            --\n│    │    │    └─RepMixerBlock: 4-16                                   [1, 128, 4, 4]            --\n│    │    │    │    └─RepMixer: 5-41                                   [1, 128, 4, 4]            2,432\n│    │    │    │    └─ConvMlp: 5-42                                    [1, 128, 4, 4]            138,240\n│    │    │    │    └─LayerScale2d: 5-43                               [1, 128, 4, 4]            128\n│    │    │    │    └─Identity: 5-44                                   [1, 128, 4, 4]            --\n│    └─FastVitStage: 2-6                                               [1, 256, 2, 2]            --\n│    │    └─PatchEmbed: 3-19                                           [1, 256, 2, 2]            --\n│    │    │    └─Sequential: 4-17                                      [1, 256, 2, 2]            --\n│    │    │    │    └─ReparamLargeKernelConv: 5-45                     [1, 256, 2, 2]            15,872\n│    │    │    │    └─MobileOneBlock: 5-46                             [1, 256, 2, 2]            66,560\n│    │    └─Identity: 3-20                                             [1, 256, 2, 2]            --\n│    │    └─Sequential: 3-21                                           [1, 256, 2, 2]            --\n│    │    │    └─RepMixerBlock: 4-18                                   [1, 256, 2, 2]            --\n│    │    │    │    └─RepMixer: 5-47                                   [1, 256, 2, 2]            4,864\n│    │    │    │    └─ConvMlp: 5-48                                    [1, 256, 2, 2]            538,624\n│    │    │    │    └─LayerScale2d: 5-49                               [1, 256, 2, 2]            256\n│    │    │    │    └─Identity: 5-50                                   [1, 256, 2, 2]            --\n│    │    │    └─RepMixerBlock: 4-19                                   [1, 256, 2, 2]            --\n│    │    │    │    └─RepMixer: 5-51                                   [1, 256, 2, 2]            4,864\n│    │    │    │    └─ConvMlp: 5-52                                    [1, 256, 2, 2]            538,624\n│    │    │    │    └─LayerScale2d: 5-53                               [1, 256, 2, 2]            256\n│    │    │    │    └─Identity: 5-54                                   [1, 256, 2, 2]            --\n│    │    │    └─RepMixerBlock: 4-20                                   [1, 256, 2, 2]            --\n│    │    │    │    └─RepMixer: 5-55                                   [1, 256, 2, 2]            4,864\n│    │    │    │    └─ConvMlp: 5-56                                    [1, 256, 2, 2]            538,624\n│    │    │    │    └─LayerScale2d: 5-57                               [1, 256, 2, 2]            256\n│    │    │    │    └─Identity: 5-58                                   [1, 256, 2, 2]            --\n│    │    │    └─RepMixerBlock: 4-21                                   [1, 256, 2, 2]            --\n│    │    │    │    └─RepMixer: 5-59                                   [1, 256, 2, 2]            4,864\n│    │    │    │    └─ConvMlp: 5-60                                    [1, 256, 2, 2]            538,624\n│    │    │    │    └─LayerScale2d: 5-61                               [1, 256, 2, 2]            256\n│    │    │    │    └─Identity: 5-62                                   [1, 256, 2, 2]            --\n│    │    │    └─RepMixerBlock: 4-22                                   [1, 256, 2, 2]            --\n│    │    │    │    └─RepMixer: 5-63                                   [1, 256, 2, 2]            4,864\n│    │    │    │    └─ConvMlp: 5-64                                    [1, 256, 2, 2]            538,624\n│    │    │    │    └─LayerScale2d: 5-65                               [1, 256, 2, 2]            256\n│    │    │    │    └─Identity: 5-66                                   [1, 256, 2, 2]            --\n│    │    │    └─RepMixerBlock: 4-23                                   [1, 256, 2, 2]            --\n│    │    │    │    └─RepMixer: 5-67                                   [1, 256, 2, 2]            4,864\n│    │    │    │    └─ConvMlp: 5-68                                    [1, 256, 2, 2]            538,624\n│    │    │    │    └─LayerScale2d: 5-69                               [1, 256, 2, 2]            256\n│    │    │    │    └─Identity: 5-70                                   [1, 256, 2, 2]            --\n│    │    │    └─RepMixerBlock: 4-24                                   [1, 256, 2, 2]            --\n│    │    │    │    └─RepMixer: 5-71                                   [1, 256, 2, 2]            4,864\n│    │    │    │    └─ConvMlp: 5-72                                    [1, 256, 2, 2]            538,624\n│    │    │    │    └─LayerScale2d: 5-73                               [1, 256, 2, 2]            256\n│    │    │    │    └─Identity: 5-74                                   [1, 256, 2, 2]            --\n│    │    │    └─RepMixerBlock: 4-25                                   [1, 256, 2, 2]            --\n│    │    │    │    └─RepMixer: 5-75                                   [1, 256, 2, 2]            4,864\n│    │    │    │    └─ConvMlp: 5-76                                    [1, 256, 2, 2]            538,624\n│    │    │    │    └─LayerScale2d: 5-77                               [1, 256, 2, 2]            256\n│    │    │    │    └─Identity: 5-78                                   [1, 256, 2, 2]            --\n│    │    │    └─RepMixerBlock: 4-26                                   [1, 256, 2, 2]            --\n│    │    │    │    └─RepMixer: 5-79                                   [1, 256, 2, 2]            4,864\n│    │    │    │    └─ConvMlp: 5-80                                    [1, 256, 2, 2]            538,624\n│    │    │    │    └─LayerScale2d: 5-81                               [1, 256, 2, 2]            256\n│    │    │    │    └─Identity: 5-82                                   [1, 256, 2, 2]            --\n│    │    │    └─RepMixerBlock: 4-27                                   [1, 256, 2, 2]            --\n│    │    │    │    └─RepMixer: 5-83                                   [1, 256, 2, 2]            4,864\n│    │    │    │    └─ConvMlp: 5-84                                    [1, 256, 2, 2]            538,624\n│    │    │    │    └─LayerScale2d: 5-85                               [1, 256, 2, 2]            256\n│    │    │    │    └─Identity: 5-86                                   [1, 256, 2, 2]            --\n│    │    │    └─RepMixerBlock: 4-28                                   [1, 256, 2, 2]            --\n│    │    │    │    └─RepMixer: 5-87                                   [1, 256, 2, 2]            4,864\n│    │    │    │    └─ConvMlp: 5-88                                    [1, 256, 2, 2]            538,624\n│    │    │    │    └─LayerScale2d: 5-89                               [1, 256, 2, 2]            256\n│    │    │    │    └─Identity: 5-90                                   [1, 256, 2, 2]            --\n│    │    │    └─RepMixerBlock: 4-29                                   [1, 256, 2, 2]            --\n│    │    │    │    └─RepMixer: 5-91                                   [1, 256, 2, 2]            4,864\n│    │    │    │    └─ConvMlp: 5-92                                    [1, 256, 2, 2]            538,624\n│    │    │    │    └─LayerScale2d: 5-93                               [1, 256, 2, 2]            256\n│    │    │    │    └─Identity: 5-94                                   [1, 256, 2, 2]            --\n│    └─FastVitStage: 2-7                                               [1, 512, 1, 1]            --\n│    │    └─PatchEmbed: 3-22                                           [1, 512, 1, 1]            --\n│    │    │    └─Sequential: 4-30                                      [1, 512, 1, 1]            --\n│    │    │    │    └─ReparamLargeKernelConv: 5-95                     [1, 512, 1, 1]            31,744\n│    │    │    │    └─MobileOneBlock: 5-96                             [1, 512, 1, 1]            264,192\n│    │    └─RepConditionalPosEnc: 3-23                                 [1, 512, 1, 1]            --\n│    │    │    └─Conv2d: 4-31                                          [1, 512, 1, 1]            25,600\n│    │    └─Sequential: 3-24                                           [1, 512, 1, 1]            --\n│    │    │    └─AttentionBlock: 4-32                                  [1, 512, 1, 1]            --\n│    │    │    │    └─BatchNorm2d: 5-97                                [1, 512, 1, 1]            1,024\n│    │    │    │    └─Attention: 5-98                                  [1, 512, 1, 1]            1,049,088\n│    │    │    │    └─LayerScale2d: 5-99                               [1, 512, 1, 1]            512\n│    │    │    │    └─Identity: 5-100                                  [1, 512, 1, 1]            --\n│    │    │    │    └─ConvMlp: 5-101                                   [1, 512, 1, 1]            2,125,824\n│    │    │    │    └─LayerScale2d: 5-102                              [1, 512, 1, 1]            512\n│    │    │    │    └─Identity: 5-103                                  [1, 512, 1, 1]            --\n│    │    │    └─AttentionBlock: 4-33                                  [1, 512, 1, 1]            --\n│    │    │    │    └─BatchNorm2d: 5-104                               [1, 512, 1, 1]            1,024\n│    │    │    │    └─Attention: 5-105                                 [1, 512, 1, 1]            1,049,088\n│    │    │    │    └─LayerScale2d: 5-106                              [1, 512, 1, 1]            512\n│    │    │    │    └─Identity: 5-107                                  [1, 512, 1, 1]            --\n│    │    │    │    └─ConvMlp: 5-108                                   [1, 512, 1, 1]            2,125,824\n│    │    │    │    └─LayerScale2d: 5-109                              [1, 512, 1, 1]            512\n│    │    │    │    └─Identity: 5-110                                  [1, 512, 1, 1]            --\n│    │    │    └─AttentionBlock: 4-34                                  [1, 512, 1, 1]            --\n│    │    │    │    └─BatchNorm2d: 5-111                               [1, 512, 1, 1]            1,024\n│    │    │    │    └─Attention: 5-112                                 [1, 512, 1, 1]            1,049,088\n│    │    │    │    └─LayerScale2d: 5-113                              [1, 512, 1, 1]            512\n│    │    │    │    └─Identity: 5-114                                  [1, 512, 1, 1]            --\n│    │    │    │    └─ConvMlp: 5-115                                   [1, 512, 1, 1]            2,125,824\n│    │    │    │    └─LayerScale2d: 5-116                              [1, 512, 1, 1]            512\n│    │    │    │    └─Identity: 5-117                                  [1, 512, 1, 1]            --\n│    │    │    └─AttentionBlock: 4-35                                  [1, 512, 1, 1]            --\n│    │    │    │    └─BatchNorm2d: 5-118                               [1, 512, 1, 1]            1,024\n│    │    │    │    └─Attention: 5-119                                 [1, 512, 1, 1]            1,049,088\n│    │    │    │    └─LayerScale2d: 5-120                              [1, 512, 1, 1]            512\n│    │    │    │    └─Identity: 5-121                                  [1, 512, 1, 1]            --\n│    │    │    │    └─ConvMlp: 5-122                                   [1, 512, 1, 1]            2,125,824\n│    │    │    │    └─LayerScale2d: 5-123                              [1, 512, 1, 1]            512\n│    │    │    │    └─Identity: 5-124                                  [1, 512, 1, 1]            --\n├─MobileOneBlock: 1-3                                                  [1, 1024, 1, 1]           --\n│    └─ConvNormAct: 2-8                                                [1, 1024, 1, 1]           --\n│    │    └─Conv2d: 3-25                                               [1, 1024, 1, 1]           1,024\n│    │    └─BatchNormAct2d: 3-26                                       [1, 1024, 1, 1]           2,048\n│    │    │    └─Identity: 4-36                                        [1, 1024, 1, 1]           --\n│    │    │    └─Identity: 4-37                                        [1, 1024, 1, 1]           --\n│    └─ModuleList: 2-9                                                 --                        --\n│    │    └─ConvNormAct: 3-27                                          [1, 1024, 1, 1]           --\n│    │    │    └─Conv2d: 4-38                                          [1, 1024, 1, 1]           9,216\n│    │    │    └─BatchNormAct2d: 4-39                                  [1, 1024, 1, 1]           2,048\n│    │    │    │    └─Identity: 5-125                                  [1, 1024, 1, 1]           --\n│    │    │    │    └─Identity: 5-126                                  [1, 1024, 1, 1]           --\n│    └─SEModule: 2-10                                                  [1, 1024, 1, 1]           --\n│    │    └─Conv2d: 3-28                                               [1, 64, 1, 1]             65,600\n│    │    └─Identity: 3-29                                             [1, 64, 1, 1]             --\n│    │    └─ReLU: 3-30                                                 [1, 64, 1, 1]             --\n│    │    └─Conv2d: 3-31                                               [1, 1024, 1, 1]           66,560\n│    │    └─Sigmoid: 3-32                                              [1, 1024, 1, 1]           --\n│    └─GELU: 2-11                                                      [1, 1024, 1, 1]           --\n├─ClassifierHead: 1-4                                                  [1, 10]                   --\n│    └─SelectAdaptivePool2d: 2-12                                      [1, 1024]                 --\n│    │    └─AdaptiveAvgPool2d: 3-33                                    [1, 1024, 1, 1]           --\n│    │    └─Flatten: 3-34                                              [1, 1024]                 --\n│    └─Dropout: 2-13                                                   [1, 1024]                 --\n│    └─Linear: 2-14                                                    [1, 10]                   10,250\n│    └─Identity: 2-15                                                  [1, 10]                   --\n========================================================================================================================\nTotal params: 20,539,466\nTrainable params: 20,539,466\nNon-trainable params: 0\nTotal mult-adds (M): 58.99\n========================================================================================================================\nInput size (MB): 0.01\nForward/backward pass size (MB): 4.29\nParams size (MB): 82.01\nEstimated Total Size (MB): 86.31\n========================================================================================================================"
     },
     "execution_count": 185,
     "metadata": {},
     "output_type": "execute_result"
    }
   ],
   "source": [
    "torchinfo.summary(model, input_size=[1, 3, 32, 32], depth=5)"
   ],
   "metadata": {
    "collapsed": false
   }
  },
  {
   "cell_type": "code",
   "execution_count": 170,
   "outputs": [],
   "source": [
    "param_name = [name for name,_ in model.named_parameters()] # All parameters name\n",
    "layer_name = [name for name,_ in model.named_modules()] # All layers name"
   ],
   "metadata": {
    "collapsed": false
   }
  },
  {
   "cell_type": "code",
   "execution_count": 173,
   "outputs": [
    {
     "data": {
      "text/plain": "['features.0.weight',\n 'features.0.bias',\n 'features.3.weight',\n 'features.3.bias',\n 'features.6.weight',\n 'features.6.bias',\n 'features.8.weight',\n 'features.8.bias',\n 'features.11.weight',\n 'features.11.bias',\n 'features.13.weight',\n 'features.13.bias',\n 'features.16.weight',\n 'features.16.bias',\n 'features.18.weight',\n 'features.18.bias',\n 'pre_logits.fc1.weight',\n 'pre_logits.fc1.bias',\n 'pre_logits.fc2.weight',\n 'pre_logits.fc2.bias',\n 'head.fc.weight',\n 'head.fc.bias']"
     },
     "execution_count": 173,
     "metadata": {},
     "output_type": "execute_result"
    }
   ],
   "source": [
    "param_name"
   ],
   "metadata": {
    "collapsed": false
   }
  },
  {
   "cell_type": "code",
   "execution_count": 177,
   "outputs": [
    {
     "data": {
      "text/plain": "VGG(\n  (features): Sequential(\n    (0): Conv2d(3, 64, kernel_size=(3, 3), stride=(1, 1), padding=(1, 1))\n    (1): ReLU(inplace=True)\n    (2): MaxPool2d(kernel_size=2, stride=2, padding=0, dilation=1, ceil_mode=False)\n    (3): Conv2d(64, 128, kernel_size=(3, 3), stride=(1, 1), padding=(1, 1))\n    (4): ReLU(inplace=True)\n    (5): MaxPool2d(kernel_size=2, stride=2, padding=0, dilation=1, ceil_mode=False)\n    (6): Conv2d(128, 256, kernel_size=(3, 3), stride=(1, 1), padding=(1, 1))\n    (7): ReLU(inplace=True)\n    (8): Conv2d(256, 256, kernel_size=(3, 3), stride=(1, 1), padding=(1, 1))\n    (9): ReLU(inplace=True)\n    (10): MaxPool2d(kernel_size=2, stride=2, padding=0, dilation=1, ceil_mode=False)\n    (11): Conv2d(256, 512, kernel_size=(3, 3), stride=(1, 1), padding=(1, 1))\n    (12): ReLU(inplace=True)\n    (13): Conv2d(512, 512, kernel_size=(3, 3), stride=(1, 1), padding=(1, 1))\n    (14): ReLU(inplace=True)\n    (15): MaxPool2d(kernel_size=2, stride=2, padding=0, dilation=1, ceil_mode=False)\n    (16): Conv2d(512, 512, kernel_size=(3, 3), stride=(1, 1), padding=(1, 1))\n    (17): ReLU(inplace=True)\n    (18): Conv2d(512, 512, kernel_size=(3, 3), stride=(1, 1), padding=(1, 1))\n    (19): ReLU(inplace=True)\n    (20): MaxPool2d(kernel_size=2, stride=2, padding=0, dilation=1, ceil_mode=False)\n  )\n  (pre_logits): ConvMlp(\n    (fc1): Conv2d(512, 4096, kernel_size=(7, 7), stride=(1, 1))\n    (act1): ReLU(inplace=True)\n    (drop): Dropout(p=0.0, inplace=False)\n    (fc2): Conv2d(4096, 4096, kernel_size=(1, 1), stride=(1, 1))\n    (act2): ReLU(inplace=True)\n  )\n  (head): ClassifierHead(\n    (global_pool): SelectAdaptivePool2d (pool_type=avg, flatten=Flatten(start_dim=1, end_dim=-1))\n    (drop): Dropout(p=0.0, inplace=False)\n    (fc): Linear(in_features=4096, out_features=10, bias=True)\n    (flatten): Identity()\n  )\n)"
     },
     "execution_count": 177,
     "metadata": {},
     "output_type": "execute_result"
    }
   ],
   "source": [
    "model"
   ],
   "metadata": {
    "collapsed": false
   }
  },
  {
   "cell_type": "code",
   "execution_count": 182,
   "outputs": [
    {
     "name": "stdout",
     "output_type": "stream",
     "text": [
      "features.0.weight False\n",
      "features.0.bias False\n",
      "features.3.weight False\n",
      "features.3.bias False\n",
      "features.6.weight False\n",
      "features.6.bias False\n",
      "features.8.weight False\n",
      "features.8.bias False\n",
      "features.11.weight False\n",
      "features.11.bias False\n",
      "features.13.weight False\n",
      "features.13.bias False\n",
      "features.16.weight False\n",
      "features.16.bias False\n",
      "features.18.weight False\n",
      "features.18.bias False\n",
      "pre_logits.fc1.weight True\n",
      "pre_logits.fc1.bias True\n",
      "pre_logits.fc2.weight True\n",
      "pre_logits.fc2.bias True\n",
      "head.fc.weight True\n",
      "head.fc.bias True\n"
     ]
    }
   ],
   "source": [
    "requires_grad = False\n",
    "for i, module in enumerate(model.named_parameters()):\n",
    "    name, param = module\n",
    "    if \"pre_logits\" in name:\n",
    "        requires_grad = True\n",
    "    param.requires_grad = requires_grad\n",
    "for name, param in model.named_parameters():\n",
    "    print(name, param.requires_grad)"
   ],
   "metadata": {
    "collapsed": false
   }
  },
  {
   "cell_type": "code",
   "execution_count": 183,
   "outputs": [
    {
     "data": {
      "text/plain": "                                      0\nurl                                    \nhf_hub_id            timm/vgg11.tv_in1k\narchitecture                      vgg11\ntag                             tv_in1k\ncustom_load                       False\ninput_size                (3, 224, 224)\nfixed_input_size                  False\ninterpolation                  bilinear\ncrop_pct                          0.875\ncrop_mode                        center\nmean              (0.485, 0.456, 0.406)\nstd               (0.229, 0.224, 0.225)\nnum_classes                        1000\npool_size                        (7, 7)\nfirst_conv                   features.0\nclassifier                      head.fc",
      "text/html": "<div>\n<style scoped>\n    .dataframe tbody tr th:only-of-type {\n        vertical-align: middle;\n    }\n\n    .dataframe tbody tr th {\n        vertical-align: top;\n    }\n\n    .dataframe thead th {\n        text-align: right;\n    }\n</style>\n<table border=\"1\" class=\"dataframe\">\n  <thead>\n    <tr style=\"text-align: right;\">\n      <th></th>\n      <th>0</th>\n    </tr>\n  </thead>\n  <tbody>\n    <tr>\n      <th>url</th>\n      <td></td>\n    </tr>\n    <tr>\n      <th>hf_hub_id</th>\n      <td>timm/vgg11.tv_in1k</td>\n    </tr>\n    <tr>\n      <th>architecture</th>\n      <td>vgg11</td>\n    </tr>\n    <tr>\n      <th>tag</th>\n      <td>tv_in1k</td>\n    </tr>\n    <tr>\n      <th>custom_load</th>\n      <td>False</td>\n    </tr>\n    <tr>\n      <th>input_size</th>\n      <td>(3, 224, 224)</td>\n    </tr>\n    <tr>\n      <th>fixed_input_size</th>\n      <td>False</td>\n    </tr>\n    <tr>\n      <th>interpolation</th>\n      <td>bilinear</td>\n    </tr>\n    <tr>\n      <th>crop_pct</th>\n      <td>0.875</td>\n    </tr>\n    <tr>\n      <th>crop_mode</th>\n      <td>center</td>\n    </tr>\n    <tr>\n      <th>mean</th>\n      <td>(0.485, 0.456, 0.406)</td>\n    </tr>\n    <tr>\n      <th>std</th>\n      <td>(0.229, 0.224, 0.225)</td>\n    </tr>\n    <tr>\n      <th>num_classes</th>\n      <td>1000</td>\n    </tr>\n    <tr>\n      <th>pool_size</th>\n      <td>(7, 7)</td>\n    </tr>\n    <tr>\n      <th>first_conv</th>\n      <td>features.0</td>\n    </tr>\n    <tr>\n      <th>classifier</th>\n      <td>head.fc</td>\n    </tr>\n  </tbody>\n</table>\n</div>"
     },
     "execution_count": 183,
     "metadata": {},
     "output_type": "execute_result"
    }
   ],
   "source": [
    "pd.DataFrame.from_dict(model.default_cfg, orient=\"index\")"
   ],
   "metadata": {
    "collapsed": false
   }
  },
  {
   "cell_type": "code",
   "execution_count": 70,
   "outputs": [],
   "source": [
    "data_config = timm.data.resolve_model_data_config(model)\n",
    "transforms = timm.data.create_transform(**data_config, is_training=False)"
   ],
   "metadata": {
    "collapsed": false
   }
  },
  {
   "cell_type": "code",
   "execution_count": 71,
   "outputs": [
    {
     "data": {
      "text/plain": "Compose(\n    Resize(size=284, interpolation=bicubic, max_size=None, antialias=None)\n    CenterCrop(size=(256, 256))\n    ToTensor()\n    Normalize(mean=tensor([0.4850, 0.4560, 0.4060]), std=tensor([0.2290, 0.2240, 0.2250]))\n)"
     },
     "execution_count": 71,
     "metadata": {},
     "output_type": "execute_result"
    }
   ],
   "source": [
    "transforms"
   ],
   "metadata": {
    "collapsed": false
   }
  },
  {
   "cell_type": "code",
   "execution_count": 74,
   "outputs": [
    {
     "data": {
      "text/plain": "(256, 256)"
     },
     "execution_count": 74,
     "metadata": {},
     "output_type": "execute_result"
    }
   ],
   "source": [
    "model.default_cfg[\"input_size\"][1:]"
   ],
   "metadata": {
    "collapsed": false
   }
  },
  {
   "cell_type": "code",
   "execution_count": 82,
   "outputs": [
    {
     "data": {
      "text/plain": "Resize(size=256, interpolation=bicubic, max_size=None, antialias=None)"
     },
     "execution_count": 82,
     "metadata": {},
     "output_type": "execute_result"
    }
   ],
   "source": [
    "from torchvision import transforms\n",
    "from torchvision.transforms.functional import InterpolationMode\n",
    "\n",
    "transforms.Resize(size=256, interpolation=InterpolationMode.BICUBIC)\n"
   ],
   "metadata": {
    "collapsed": false
   }
  },
  {
   "cell_type": "code",
   "execution_count": 10,
   "outputs": [],
   "source": [
    "# Custom final layer\n",
    "num_in_features = model.get_classifier().in_features\n",
    "model.head.fc = nn.Sequential(\n",
    "    nn.BatchNorm1d(num_in_features),\n",
    "    nn.Linear(in_features=num_in_features, out_features=512, bias=False),\n",
    "    nn.ReLU(),\n",
    "    nn.BatchNorm1d(512),\n",
    "    nn.Dropout(0.5),\n",
    "    nn.Linear(in_features=512, out_features=10, bias=False)\n",
    ")"
   ],
   "metadata": {
    "collapsed": false
   }
  },
  {
   "cell_type": "code",
   "execution_count": 114,
   "outputs": [
    {
     "data": {
      "text/plain": "torch.Size([1, 10])"
     },
     "execution_count": 114,
     "metadata": {},
     "output_type": "execute_result"
    }
   ],
   "source": [
    "model.eval()\n",
    "model(torch.randn(1, 3, 256, 256)).shape"
   ],
   "metadata": {
    "collapsed": false
   }
  },
  {
   "cell_type": "code",
   "execution_count": 115,
   "outputs": [
    {
     "data": {
      "text/plain": "[{'num_chs': 64, 'reduction': 4, 'module': 'stages.0'},\n {'num_chs': 128, 'reduction': 8, 'module': 'stages.1'},\n {'num_chs': 256, 'reduction': 16, 'module': 'stages.2'},\n {'num_chs': 512, 'reduction': 32, 'module': 'stages.3'}]"
     },
     "execution_count": 115,
     "metadata": {},
     "output_type": "execute_result"
    }
   ],
   "source": [
    "model.feature_info"
   ],
   "metadata": {
    "collapsed": false
   }
  },
  {
   "cell_type": "code",
   "execution_count": null,
   "outputs": [],
   "source": [],
   "metadata": {
    "collapsed": false
   }
  },
  {
   "cell_type": "code",
   "execution_count": null,
   "outputs": [],
   "source": [
    "from minio import Minio\n",
    "\n",
    "client = Minio(\"minio.pish.pstu.ru:80\", access_key=\"U28XMjtvu9y6IdsThVBK\", secret_key=\"tK0xuwoYxFBRSOLHy7dMdhD7ec6JZH7lSUNd5PXR\", secure=False)\n",
    "\n",
    "bucket_name = \"ai-data\"\n",
    "folder_name = \"Aircraft-FOD-DS-v2-Day-Binary-Reduced\"\n",
    "for item in client.list_objects(bucket_name, recursive=True):\n",
    "    if folder_name in item.object_name:\n",
    "        client.fget_object(bucket_name, item.object_name, item.object_name)"
   ],
   "metadata": {
    "collapsed": false
   }
  }
 ],
 "metadata": {
  "kernelspec": {
   "display_name": "Python 3",
   "language": "python",
   "name": "python3"
  },
  "language_info": {
   "codemirror_mode": {
    "name": "ipython",
    "version": 2
   },
   "file_extension": ".py",
   "mimetype": "text/x-python",
   "name": "python",
   "nbconvert_exporter": "python",
   "pygments_lexer": "ipython2",
   "version": "2.7.6"
  }
 },
 "nbformat": 4,
 "nbformat_minor": 0
}
