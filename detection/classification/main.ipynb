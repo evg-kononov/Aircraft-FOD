{
 "cells": [
  {
   "cell_type": "code",
   "execution_count": 272,
   "metadata": {
    "collapsed": true
   },
   "outputs": [],
   "source": [
    "import torch\n",
    "import torchinfo\n",
    "import timm\n",
    "import pandas as pd\n",
    "import numpy as np\n",
    "import os\n",
    "from tqdm import tqdm\n",
    "from torch import nn\n",
    "from torch.utils.data import Dataset\n",
    "from torch.utils.data import DataLoader\n",
    "from torchvision import datasets, transforms\n",
    "\n",
    "from dataset import *"
   ]
  },
  {
   "cell_type": "code",
   "execution_count": 273,
   "outputs": [],
   "source": [
    "import torchmetrics"
   ],
   "metadata": {
    "collapsed": false
   }
  },
  {
   "cell_type": "code",
   "execution_count": 355,
   "outputs": [],
   "source": [
    "task = \"multiclass\"\n",
    "top_k = 1\n",
    "accuracy = torchmetrics.classification.Accuracy(task=task, threshold=0.5, num_classes=10, top_k=top_k).to(\"cuda\")\n",
    "precision = torchmetrics.Precision(task=task, threshold=0.5, num_classes=10, top_k=top_k).to(\"cuda\")\n",
    "recall = torchmetrics.Recall(task=task, threshold=0.5, num_classes=10, top_k=top_k).to(\"cuda\")\n",
    "f1 = torchmetrics.F1Score(task=task, threshold=0.5, num_classes=10, top_k=top_k).to(\"cuda\")\n",
    "stat = torchmetrics.StatScores(task=task, threshold=0.5, num_classes=10, top_k=top_k).to(\"cuda\")"
   ],
   "metadata": {
    "collapsed": false
   }
  },
  {
   "cell_type": "code",
   "execution_count": 356,
   "outputs": [
    {
     "name": "stdout",
     "output_type": "stream",
     "text": [
      "tensor([ 1,  9, 81,  9, 10], device='cuda:0')\n",
      "tensor(0.1000, device='cuda:0')\n",
      "tensor(0.1000, device='cuda:0')\n",
      "tensor(0.1000, device='cuda:0')\n",
      "tensor(0.1000, device='cuda:0')\n"
     ]
    }
   ],
   "source": [
    "preds = torch.tensor([[-0.0129, -0.3175, -0.0683,  0.2080,  0.1129,  0.0553,  0.0140,  0.0251,\n",
    "         -0.1527,  0.0622],\n",
    "        [ 0.1304,  0.1785,  0.0883,  0.5066, -0.1161, -0.1496, -0.2035,  0.0709,\n",
    "          0.2420,  0.3981],\n",
    "        [-0.0213, -0.0850, -0.1686,  0.1521,  0.2414, -0.0275,  0.0066,  0.1848,\n",
    "         -0.1766,  0.0321],\n",
    "        [ 0.3734,  0.3885, -0.2002, -0.3148, -0.2604,  0.3571, -0.7075, -0.2140,\n",
    "          0.2051,  0.7275],\n",
    "        [-0.1535, -0.1203, -0.0069,  0.2753,  0.3317, -0.3602, -0.1358,  0.1422,\n",
    "         -0.0302,  0.3005],\n",
    "        [ 0.2874,  0.1921,  0.2205,  0.3036, -0.1055, -0.1325,  0.0322,  0.4317,\n",
    "          0.1032, -0.0067],\n",
    "        [ 0.0414, -0.1034, -0.1293,  0.0489,  0.3273,  0.1023, -0.1438,  0.1175,\n",
    "         -0.0843,  0.1121],\n",
    "        [-0.1684, -0.0975, -0.1321,  0.1957,  0.1615,  0.1282, -0.2379,  0.0721,\n",
    "         -0.1267,  0.1032],\n",
    "        [ 0.0425, -0.1601, -0.0020,  0.1313,  0.1604,  0.1026,  0.0792,  0.1182,\n",
    "         -0.0664,  0.0552],\n",
    "        [-0.0258, -0.2268, -0.0416,  0.0605,  0.1985,  0.0211, -0.2180,  0.1641,\n",
    "         -0.0347, -0.0319]]).to(\"cuda\")\n",
    "target = torch.tensor([3, 7, 0, 1, 3, 8, 9, 8, 3, 6]).to(\"cuda\")\n",
    "print(stat(preds, target))\n",
    "print(accuracy(preds, target))\n",
    "print(precision(preds, target))\n",
    "print(recall(preds, target))\n",
    "print(f1(preds, target))"
   ],
   "metadata": {
    "collapsed": false
   }
  },
  {
   "cell_type": "code",
   "execution_count": 351,
   "outputs": [
    {
     "name": "stdout",
     "output_type": "stream",
     "text": [
      "tensor([ 4, 46, 44,  6, 10], device='cuda:0')\n",
      "tensor(0.4000, device='cuda:0')\n",
      "tensor(0.0800, device='cuda:0')\n",
      "tensor(0.4000, device='cuda:0')\n",
      "tensor(0.1333, device='cuda:0')\n"
     ]
    }
   ],
   "source": [
    "print(stat.compute())\n",
    "print(accuracy.compute())\n",
    "print(precision.compute())\n",
    "print(recall.compute())\n",
    "print(f1.compute())"
   ],
   "metadata": {
    "collapsed": false
   }
  },
  {
   "cell_type": "code",
   "execution_count": 276,
   "outputs": [],
   "source": [
    "root_path = f\"C:/Users/conon/Documents/Datasets/cifar10/\"\n",
    "train_path = os.path.join(root_path, \"train\")\n",
    "val_path = os.path.join(root_path, \"test\")\n",
    "\n",
    "train_labels_path = os.path.join(root_path, \"train_labels.csv\")\n",
    "val_labels_path = os.path.join(root_path, \"test_labels.csv\")"
   ],
   "metadata": {
    "collapsed": false
   }
  },
  {
   "cell_type": "code",
   "execution_count": 138,
   "outputs": [
    {
     "name": "stdout",
     "output_type": "stream",
     "text": [
      "Files already downloaded and verified\n",
      "Files already downloaded and verified\n"
     ]
    }
   ],
   "source": [
    "train = datasets.CIFAR10(root=root_path, train=True, download=True)\n",
    "val = datasets.CIFAR10(root=root_path, train=False, download=True)\n",
    "\n",
    "for i, img in enumerate(train.data):\n",
    "     np.save(os.path.join(root_path + \"train\", str(i)), img)\n",
    "pd.DataFrame({\"label\": train.targets}).to_csv(train_labels_path, index=True)\n",
    "for i, img in enumerate(val.data):\n",
    "     np.save(os.path.join(root_path + \"test\", str(i)), img)\n",
    "pd.DataFrame({\"label\": val.targets}).to_csv(val_labels_path, index=True)"
   ],
   "metadata": {
    "collapsed": false
   }
  },
  {
   "cell_type": "code",
   "execution_count": null,
   "outputs": [],
   "source": [
    "transforms.ToTensor()"
   ],
   "metadata": {
    "collapsed": false
   }
  },
  {
   "cell_type": "code",
   "execution_count": 33,
   "outputs": [
    {
     "data": {
      "text/plain": "tensor([[0, 0, 0, 0, 1, 0, 0, 0, 0, 0]])"
     },
     "execution_count": 33,
     "metadata": {},
     "output_type": "execute_result"
    }
   ],
   "source": [
    "import torch.nn.functional as F\n",
    "F.one_hot(torch.tensor([4]), num_classes=10)"
   ],
   "metadata": {
    "collapsed": false
   }
  },
  {
   "cell_type": "code",
   "execution_count": 20,
   "outputs": [
    {
     "data": {
      "text/plain": "10"
     },
     "execution_count": 20,
     "metadata": {},
     "output_type": "execute_result"
    }
   ],
   "source": [
    "pd.read_csv(val_labels_path).nunique()[\"label\"]"
   ],
   "metadata": {
    "collapsed": false
   }
  },
  {
   "cell_type": "code",
   "execution_count": 102,
   "outputs": [],
   "source": [
    "def weights_ema(model_ema, model, decay=0.999):\n",
    "    \"\"\"\n",
    "    For visualizing and evaliating generator output at any given point during the training\n",
    "    use an exponential running average for the weights of the generator with decay 0.999.\n",
    "    \"\"\"\n",
    "    par1 = dict(model_ema.named_parameters())\n",
    "    par2 = dict(model.named_parameters())\n",
    "\n",
    "    for k in par1.keys():\n",
    "        par1[k].data.mul_(decay).add_(par2[k].data, alpha=1 - decay)\n",
    "\n",
    "\n",
    "def train(\n",
    "        train_dl,\n",
    "        val_dl,\n",
    "        model,\n",
    "        model_ema,\n",
    "        optimizer,\n",
    "        criterion,\n",
    "        num_steps,\n",
    "        batch_size,\n",
    "        device,\n",
    "        initial_step=1,\n",
    "        use_wandb=False,\n",
    "        ema_decay=0.9995,\n",
    "):\n",
    "    pbar = range(num_steps)\n",
    "    pbar = tqdm(pbar, initial=initial_step, dynamic_ncols=True)\n",
    "\n",
    "    train_dl = generator(train_dl)\n",
    "    val_dl = generator(val_dl)\n",
    "\n",
    "    for step in pbar:\n",
    "        step += initial_step\n",
    "\n",
    "        images, labels = next(train_dl)\n",
    "        images = images.to(device)\n",
    "        labels = labels.to(device)\n",
    "\n",
    "        prediction = model(images)\n",
    "        loss = criterion(labels, prediction)\n",
    "\n",
    "        optimizer.zero_grad()\n",
    "        loss.backward()\n",
    "        optimizer.step()\n",
    "\n",
    "        weights_ema(model_ema, model, ema_decay)\n",
    "\n"
   ],
   "metadata": {
    "collapsed": false
   }
  },
  {
   "cell_type": "code",
   "execution_count": 104,
   "outputs": [],
   "source": [
    "# Fine-tuning hyperparameters\n",
    "num_epochs = 30\n",
    "batch_size = 128\n",
    "learning_rate = 5e-6\n",
    "weight_decay = 1e-8\n",
    "label_smoothing = 0.1\n",
    "ema_decay = 0.9995 # TODO: добавить функцию, которая делает ema_decay\n",
    "\n",
    "# Dataset hyperparameters\n",
    "width = 32\n",
    "height = 32\n",
    "channels = 3\n",
    "num_classes = 10\n",
    "\n",
    "# Augmentation hyperparameters\n",
    "stochastic_depth_rate = [0.2, 0.4]\n",
    "data_augmentation = \"RandAugment\"\n",
    "alpha_mixup = 0.8\n",
    "alpha_cutmix = 1.0\n",
    "random_erase_prob = 0.25\n",
    "\n",
    "\n",
    "\n",
    "train_transforms = 0\n",
    "val_transforms = 0\n",
    "\n",
    "train_ds = ImageDataset(labels_file=train_labels_path, root_dir=train_path, num_classes=10)\n",
    "val_ds = ImageDataset(labels_file=val_labels_path, root_dir=val_path, num_classes=10)\n",
    "\n",
    "train_dl = DataLoader(train_ds, batch_size=batch_size, shuffle=True)\n",
    "val_dl = DataLoader(val_ds, batch_size=batch_size, shuffle=True)"
   ],
   "metadata": {
    "collapsed": false
   }
  },
  {
   "cell_type": "code",
   "execution_count": 105,
   "outputs": [
    {
     "data": {
      "text/plain": "391"
     },
     "execution_count": 105,
     "metadata": {},
     "output_type": "execute_result"
    }
   ],
   "source": [
    "len(train_dl)"
   ],
   "metadata": {
    "collapsed": false
   }
  },
  {
   "cell_type": "code",
   "execution_count": 263,
   "outputs": [],
   "source": [
    "model = timm.create_model(\"fastvit_s12\", num_classes=num_classes, in_chans=channels)\n",
    "optimizer = torch.optim.AdamW(model.parameters(), lr=learning_rate, weight_decay=weight_decay)\n",
    "criterion = nn.CrossEntropyLoss(label_smoothing=label_smoothing)\n",
    "\n",
    "#for epoch in range(num_epochs):\n"
   ],
   "metadata": {
    "collapsed": false
   }
  },
  {
   "cell_type": "code",
   "execution_count": 271,
   "outputs": [
    {
     "data": {
      "text/plain": "torch.nn.modules.loss.CrossEntropyLoss"
     },
     "execution_count": 271,
     "metadata": {},
     "output_type": "execute_result"
    }
   ],
   "source": [
    "type(torch.nn.CrossEntropyLoss(label_smoothing=0.1))"
   ],
   "metadata": {
    "collapsed": false
   }
  },
  {
   "cell_type": "code",
   "execution_count": 268,
   "outputs": [
    {
     "data": {
      "text/plain": "========================================================================================================================\nLayer (type:depth-idx)                                                 Output Shape              Param #\n========================================================================================================================\nFastVit                                                                [1, 10]                   --\n├─Sequential: 1-1                                                      [1, 64, 8, 8]             --\n│    └─MobileOneBlock: 2-1                                             [1, 64, 16, 16]           --\n│    │    └─ConvNormAct: 3-1                                           [1, 64, 16, 16]           --\n│    │    │    └─Conv2d: 4-1                                           [1, 64, 16, 16]           192\n│    │    │    └─BatchNormAct2d: 4-2                                   [1, 64, 16, 16]           128\n│    │    │    │    └─Identity: 5-1                                    [1, 64, 16, 16]           --\n│    │    │    │    └─Identity: 5-2                                    [1, 64, 16, 16]           --\n│    │    └─ModuleList: 3-2                                            --                        --\n│    │    │    └─ConvNormAct: 4-3                                      [1, 64, 16, 16]           --\n│    │    │    │    └─Conv2d: 5-3                                      [1, 64, 16, 16]           1,728\n│    │    │    │    └─BatchNormAct2d: 5-4                              [1, 64, 16, 16]           128\n│    │    └─Identity: 3-3                                              [1, 64, 16, 16]           --\n│    │    └─GELU: 3-4                                                  [1, 64, 16, 16]           --\n│    └─MobileOneBlock: 2-2                                             [1, 64, 8, 8]             --\n│    │    └─ConvNormAct: 3-5                                           [1, 64, 8, 8]             --\n│    │    │    └─Conv2d: 4-4                                           [1, 64, 8, 8]             64\n│    │    │    └─BatchNormAct2d: 4-5                                   [1, 64, 8, 8]             128\n│    │    │    │    └─Identity: 5-5                                    [1, 64, 8, 8]             --\n│    │    │    │    └─Identity: 5-6                                    [1, 64, 8, 8]             --\n│    │    └─ModuleList: 3-6                                            --                        --\n│    │    │    └─ConvNormAct: 4-6                                      [1, 64, 8, 8]             --\n│    │    │    │    └─Conv2d: 5-7                                      [1, 64, 8, 8]             576\n│    │    │    │    └─BatchNormAct2d: 5-8                              [1, 64, 8, 8]             128\n│    │    └─Identity: 3-7                                              [1, 64, 8, 8]             --\n│    │    └─GELU: 3-8                                                  [1, 64, 8, 8]             --\n│    └─MobileOneBlock: 2-3                                             [1, 64, 8, 8]             --\n│    │    └─BatchNorm2d: 3-9                                           [1, 64, 8, 8]             128\n│    │    └─ModuleList: 3-10                                           --                        --\n│    │    │    └─ConvNormAct: 4-7                                      [1, 64, 8, 8]             --\n│    │    │    │    └─Conv2d: 5-9                                      [1, 64, 8, 8]             4,096\n│    │    │    │    └─BatchNormAct2d: 5-10                             [1, 64, 8, 8]             128\n│    │    └─Identity: 3-11                                             [1, 64, 8, 8]             --\n│    │    └─GELU: 3-12                                                 [1, 64, 8, 8]             --\n├─Sequential: 1-2                                                      --                        --\n│    └─FastVitStage: 2-4                                               [1, 64, 8, 8]             --\n│    │    └─Identity: 3-13                                             [1, 64, 8, 8]             --\n│    │    └─Identity: 3-14                                             [1, 64, 8, 8]             --\n│    │    └─Sequential: 3-15                                           [1, 64, 8, 8]             --\n│    │    │    └─RepMixerBlock: 4-8                                    [1, 64, 8, 8]             --\n│    │    │    │    └─RepMixer: 5-11                                   [1, 64, 8, 8]             1,216\n│    │    │    │    └─ConvMlp: 5-12                                    [1, 64, 8, 8]             36,352\n│    │    │    │    └─LayerScale2d: 5-13                               [1, 64, 8, 8]             64\n│    │    │    │    └─Identity: 5-14                                   [1, 64, 8, 8]             --\n│    │    │    └─RepMixerBlock: 4-9                                    [1, 64, 8, 8]             --\n│    │    │    │    └─RepMixer: 5-15                                   [1, 64, 8, 8]             1,216\n│    │    │    │    └─ConvMlp: 5-16                                    [1, 64, 8, 8]             36,352\n│    │    │    │    └─LayerScale2d: 5-17                               [1, 64, 8, 8]             64\n│    │    │    │    └─Identity: 5-18                                   [1, 64, 8, 8]             --\n│    └─FastVitStage: 2-5                                               [1, 128, 4, 4]            --\n│    │    └─PatchEmbed: 3-16                                           [1, 128, 4, 4]            --\n│    │    │    └─Sequential: 4-10                                      [1, 128, 4, 4]            --\n│    │    │    │    └─ReparamLargeKernelConv: 5-19                     [1, 128, 4, 4]            7,936\n│    │    │    │    └─MobileOneBlock: 5-20                             [1, 128, 4, 4]            16,896\n│    │    └─Identity: 3-17                                             [1, 128, 4, 4]            --\n│    │    └─Sequential: 3-18                                           [1, 128, 4, 4]            --\n│    │    │    └─RepMixerBlock: 4-11                                   [1, 128, 4, 4]            --\n│    │    │    │    └─RepMixer: 5-21                                   [1, 128, 4, 4]            2,432\n│    │    │    │    └─ConvMlp: 5-22                                    [1, 128, 4, 4]            138,240\n│    │    │    │    └─LayerScale2d: 5-23                               [1, 128, 4, 4]            128\n│    │    │    │    └─Identity: 5-24                                   [1, 128, 4, 4]            --\n│    │    │    └─RepMixerBlock: 4-12                                   [1, 128, 4, 4]            --\n│    │    │    │    └─RepMixer: 5-25                                   [1, 128, 4, 4]            2,432\n│    │    │    │    └─ConvMlp: 5-26                                    [1, 128, 4, 4]            138,240\n│    │    │    │    └─LayerScale2d: 5-27                               [1, 128, 4, 4]            128\n│    │    │    │    └─Identity: 5-28                                   [1, 128, 4, 4]            --\n│    └─FastVitStage: 2-6                                               [1, 256, 2, 2]            --\n│    │    └─PatchEmbed: 3-19                                           [1, 256, 2, 2]            --\n│    │    │    └─Sequential: 4-13                                      [1, 256, 2, 2]            --\n│    │    │    │    └─ReparamLargeKernelConv: 5-29                     [1, 256, 2, 2]            15,872\n│    │    │    │    └─MobileOneBlock: 5-30                             [1, 256, 2, 2]            66,560\n│    │    └─Identity: 3-20                                             [1, 256, 2, 2]            --\n│    │    └─Sequential: 3-21                                           [1, 256, 2, 2]            --\n│    │    │    └─RepMixerBlock: 4-14                                   [1, 256, 2, 2]            --\n│    │    │    │    └─RepMixer: 5-31                                   [1, 256, 2, 2]            4,864\n│    │    │    │    └─ConvMlp: 5-32                                    [1, 256, 2, 2]            538,624\n│    │    │    │    └─LayerScale2d: 5-33                               [1, 256, 2, 2]            256\n│    │    │    │    └─Identity: 5-34                                   [1, 256, 2, 2]            --\n│    │    │    └─RepMixerBlock: 4-15                                   [1, 256, 2, 2]            --\n│    │    │    │    └─RepMixer: 5-35                                   [1, 256, 2, 2]            4,864\n│    │    │    │    └─ConvMlp: 5-36                                    [1, 256, 2, 2]            538,624\n│    │    │    │    └─LayerScale2d: 5-37                               [1, 256, 2, 2]            256\n│    │    │    │    └─Identity: 5-38                                   [1, 256, 2, 2]            --\n│    │    │    └─RepMixerBlock: 4-16                                   [1, 256, 2, 2]            --\n│    │    │    │    └─RepMixer: 5-39                                   [1, 256, 2, 2]            4,864\n│    │    │    │    └─ConvMlp: 5-40                                    [1, 256, 2, 2]            538,624\n│    │    │    │    └─LayerScale2d: 5-41                               [1, 256, 2, 2]            256\n│    │    │    │    └─Identity: 5-42                                   [1, 256, 2, 2]            --\n│    │    │    └─RepMixerBlock: 4-17                                   [1, 256, 2, 2]            --\n│    │    │    │    └─RepMixer: 5-43                                   [1, 256, 2, 2]            4,864\n│    │    │    │    └─ConvMlp: 5-44                                    [1, 256, 2, 2]            538,624\n│    │    │    │    └─LayerScale2d: 5-45                               [1, 256, 2, 2]            256\n│    │    │    │    └─Identity: 5-46                                   [1, 256, 2, 2]            --\n│    │    │    └─RepMixerBlock: 4-18                                   [1, 256, 2, 2]            --\n│    │    │    │    └─RepMixer: 5-47                                   [1, 256, 2, 2]            4,864\n│    │    │    │    └─ConvMlp: 5-48                                    [1, 256, 2, 2]            538,624\n│    │    │    │    └─LayerScale2d: 5-49                               [1, 256, 2, 2]            256\n│    │    │    │    └─Identity: 5-50                                   [1, 256, 2, 2]            --\n│    │    │    └─RepMixerBlock: 4-19                                   [1, 256, 2, 2]            --\n│    │    │    │    └─RepMixer: 5-51                                   [1, 256, 2, 2]            4,864\n│    │    │    │    └─ConvMlp: 5-52                                    [1, 256, 2, 2]            538,624\n│    │    │    │    └─LayerScale2d: 5-53                               [1, 256, 2, 2]            256\n│    │    │    │    └─Identity: 5-54                                   [1, 256, 2, 2]            --\n│    └─FastVitStage: 2-7                                               [1, 512, 1, 1]            --\n│    │    └─PatchEmbed: 3-22                                           [1, 512, 1, 1]            --\n│    │    │    └─Sequential: 4-20                                      [1, 512, 1, 1]            --\n│    │    │    │    └─ReparamLargeKernelConv: 5-55                     [1, 512, 1, 1]            31,744\n│    │    │    │    └─MobileOneBlock: 5-56                             [1, 512, 1, 1]            264,192\n│    │    └─Identity: 3-23                                             [1, 512, 1, 1]            --\n│    │    └─Sequential: 3-24                                           [1, 512, 1, 1]            --\n│    │    │    └─RepMixerBlock: 4-21                                   [1, 512, 1, 1]            --\n│    │    │    │    └─RepMixer: 5-57                                   [1, 512, 1, 1]            9,728\n│    │    │    │    └─ConvMlp: 5-58                                    [1, 512, 1, 1]            2,125,824\n│    │    │    │    └─LayerScale2d: 5-59                               [1, 512, 1, 1]            512\n│    │    │    │    └─Identity: 5-60                                   [1, 512, 1, 1]            --\n│    │    │    └─RepMixerBlock: 4-22                                   [1, 512, 1, 1]            --\n│    │    │    │    └─RepMixer: 5-61                                   [1, 512, 1, 1]            9,728\n│    │    │    │    └─ConvMlp: 5-62                                    [1, 512, 1, 1]            2,125,824\n│    │    │    │    └─LayerScale2d: 5-63                               [1, 512, 1, 1]            512\n│    │    │    │    └─Identity: 5-64                                   [1, 512, 1, 1]            --\n├─MobileOneBlock: 1-3                                                  [1, 1024, 1, 1]           --\n│    └─ConvNormAct: 2-8                                                [1, 1024, 1, 1]           --\n│    │    └─Conv2d: 3-25                                               [1, 1024, 1, 1]           1,024\n│    │    └─BatchNormAct2d: 3-26                                       [1, 1024, 1, 1]           2,048\n│    │    │    └─Identity: 4-23                                        [1, 1024, 1, 1]           --\n│    │    │    └─Identity: 4-24                                        [1, 1024, 1, 1]           --\n│    └─ModuleList: 2-9                                                 --                        --\n│    │    └─ConvNormAct: 3-27                                          [1, 1024, 1, 1]           --\n│    │    │    └─Conv2d: 4-25                                          [1, 1024, 1, 1]           9,216\n│    │    │    └─BatchNormAct2d: 4-26                                  [1, 1024, 1, 1]           2,048\n│    │    │    │    └─Identity: 5-65                                   [1, 1024, 1, 1]           --\n│    │    │    │    └─Identity: 5-66                                   [1, 1024, 1, 1]           --\n│    └─SEModule: 2-10                                                  [1, 1024, 1, 1]           --\n│    │    └─Conv2d: 3-28                                               [1, 64, 1, 1]             65,600\n│    │    └─Identity: 3-29                                             [1, 64, 1, 1]             --\n│    │    └─ReLU: 3-30                                                 [1, 64, 1, 1]             --\n│    │    └─Conv2d: 3-31                                               [1, 1024, 1, 1]           66,560\n│    │    └─Sigmoid: 3-32                                              [1, 1024, 1, 1]           --\n│    └─GELU: 2-11                                                      [1, 1024, 1, 1]           --\n├─ClassifierHead: 1-4                                                  [1, 10]                   --\n│    └─SelectAdaptivePool2d: 2-12                                      [1, 1024]                 --\n│    │    └─AdaptiveAvgPool2d: 3-33                                    [1, 1024, 1, 1]           --\n│    │    └─Flatten: 3-34                                              [1, 1024]                 --\n│    └─Dropout: 2-13                                                   [1, 1024]                 --\n│    └─Linear: 2-14                                                    [1, 10]                   10,250\n│    └─Identity: 2-15                                                  [1, 10]                   --\n========================================================================================================================\nTotal params: 8,458,826\nTrainable params: 8,458,826\nNon-trainable params: 0\nTotal mult-adds (M): 28.37\n========================================================================================================================\nInput size (MB): 0.01\nForward/backward pass size (MB): 2.40\nParams size (MB): 33.72\nEstimated Total Size (MB): 36.14\n========================================================================================================================"
     },
     "execution_count": 268,
     "metadata": {},
     "output_type": "execute_result"
    }
   ],
   "source": [
    "torchinfo.summary(model, input_size=[1, 3, 32, 32], depth=5)"
   ],
   "metadata": {
    "collapsed": false
   }
  },
  {
   "cell_type": "code",
   "execution_count": 358,
   "outputs": [
    {
     "data": {
      "text/plain": "['efficientnet_b0']"
     },
     "execution_count": 358,
     "metadata": {},
     "output_type": "execute_result"
    }
   ],
   "source": [
    "timm.list_models(\"efficientnet_b0\")"
   ],
   "metadata": {
    "collapsed": false
   }
  },
  {
   "cell_type": "code",
   "execution_count": 108,
   "outputs": [
    {
     "data": {
      "text/plain": "['fastvit_ma36',\n 'fastvit_s12',\n 'fastvit_sa12',\n 'fastvit_sa24',\n 'fastvit_sa36',\n 'fastvit_t8',\n 'fastvit_t12']"
     },
     "execution_count": 108,
     "metadata": {},
     "output_type": "execute_result"
    }
   ],
   "source": [
    "timm.list_models(\"fast*\")"
   ],
   "metadata": {
    "collapsed": false
   }
  },
  {
   "cell_type": "code",
   "execution_count": 109,
   "outputs": [
    {
     "data": {
      "text/plain": "['fastvit_ma36.apple_dist_in1k',\n 'fastvit_ma36.apple_in1k',\n 'fastvit_s12.apple_dist_in1k',\n 'fastvit_s12.apple_in1k',\n 'fastvit_sa12.apple_dist_in1k',\n 'fastvit_sa12.apple_in1k',\n 'fastvit_sa24.apple_dist_in1k',\n 'fastvit_sa24.apple_in1k',\n 'fastvit_sa36.apple_dist_in1k',\n 'fastvit_sa36.apple_in1k',\n 'fastvit_t8.apple_dist_in1k',\n 'fastvit_t8.apple_in1k',\n 'fastvit_t12.apple_dist_in1k',\n 'fastvit_t12.apple_in1k']"
     },
     "execution_count": 109,
     "metadata": {},
     "output_type": "execute_result"
    }
   ],
   "source": [
    "timm.list_models(\"fast*\", pretrained=True)"
   ],
   "metadata": {
    "collapsed": false
   }
  },
  {
   "cell_type": "code",
   "execution_count": 359,
   "outputs": [],
   "source": [
    "num_classes = 10\n",
    "channels = 3\n",
    "model = timm.create_model(\"efficientnet_b0\", num_classes=num_classes, in_chans=channels)"
   ],
   "metadata": {
    "collapsed": false
   }
  },
  {
   "cell_type": "code",
   "execution_count": 360,
   "outputs": [
    {
     "data": {
      "text/plain": "EfficientNet(\n  (conv_stem): Conv2d(3, 32, kernel_size=(3, 3), stride=(2, 2), padding=(1, 1), bias=False)\n  (bn1): BatchNormAct2d(\n    32, eps=1e-05, momentum=0.1, affine=True, track_running_stats=True\n    (drop): Identity()\n    (act): SiLU(inplace=True)\n  )\n  (blocks): Sequential(\n    (0): Sequential(\n      (0): DepthwiseSeparableConv(\n        (conv_dw): Conv2d(32, 32, kernel_size=(3, 3), stride=(1, 1), padding=(1, 1), groups=32, bias=False)\n        (bn1): BatchNormAct2d(\n          32, eps=1e-05, momentum=0.1, affine=True, track_running_stats=True\n          (drop): Identity()\n          (act): SiLU(inplace=True)\n        )\n        (se): SqueezeExcite(\n          (conv_reduce): Conv2d(32, 8, kernel_size=(1, 1), stride=(1, 1))\n          (act1): SiLU(inplace=True)\n          (conv_expand): Conv2d(8, 32, kernel_size=(1, 1), stride=(1, 1))\n          (gate): Sigmoid()\n        )\n        (conv_pw): Conv2d(32, 16, kernel_size=(1, 1), stride=(1, 1), bias=False)\n        (bn2): BatchNormAct2d(\n          16, eps=1e-05, momentum=0.1, affine=True, track_running_stats=True\n          (drop): Identity()\n          (act): Identity()\n        )\n        (drop_path): Identity()\n      )\n    )\n    (1): Sequential(\n      (0): InvertedResidual(\n        (conv_pw): Conv2d(16, 96, kernel_size=(1, 1), stride=(1, 1), bias=False)\n        (bn1): BatchNormAct2d(\n          96, eps=1e-05, momentum=0.1, affine=True, track_running_stats=True\n          (drop): Identity()\n          (act): SiLU(inplace=True)\n        )\n        (conv_dw): Conv2d(96, 96, kernel_size=(3, 3), stride=(2, 2), padding=(1, 1), groups=96, bias=False)\n        (bn2): BatchNormAct2d(\n          96, eps=1e-05, momentum=0.1, affine=True, track_running_stats=True\n          (drop): Identity()\n          (act): SiLU(inplace=True)\n        )\n        (se): SqueezeExcite(\n          (conv_reduce): Conv2d(96, 4, kernel_size=(1, 1), stride=(1, 1))\n          (act1): SiLU(inplace=True)\n          (conv_expand): Conv2d(4, 96, kernel_size=(1, 1), stride=(1, 1))\n          (gate): Sigmoid()\n        )\n        (conv_pwl): Conv2d(96, 24, kernel_size=(1, 1), stride=(1, 1), bias=False)\n        (bn3): BatchNormAct2d(\n          24, eps=1e-05, momentum=0.1, affine=True, track_running_stats=True\n          (drop): Identity()\n          (act): Identity()\n        )\n        (drop_path): Identity()\n      )\n      (1): InvertedResidual(\n        (conv_pw): Conv2d(24, 144, kernel_size=(1, 1), stride=(1, 1), bias=False)\n        (bn1): BatchNormAct2d(\n          144, eps=1e-05, momentum=0.1, affine=True, track_running_stats=True\n          (drop): Identity()\n          (act): SiLU(inplace=True)\n        )\n        (conv_dw): Conv2d(144, 144, kernel_size=(3, 3), stride=(1, 1), padding=(1, 1), groups=144, bias=False)\n        (bn2): BatchNormAct2d(\n          144, eps=1e-05, momentum=0.1, affine=True, track_running_stats=True\n          (drop): Identity()\n          (act): SiLU(inplace=True)\n        )\n        (se): SqueezeExcite(\n          (conv_reduce): Conv2d(144, 6, kernel_size=(1, 1), stride=(1, 1))\n          (act1): SiLU(inplace=True)\n          (conv_expand): Conv2d(6, 144, kernel_size=(1, 1), stride=(1, 1))\n          (gate): Sigmoid()\n        )\n        (conv_pwl): Conv2d(144, 24, kernel_size=(1, 1), stride=(1, 1), bias=False)\n        (bn3): BatchNormAct2d(\n          24, eps=1e-05, momentum=0.1, affine=True, track_running_stats=True\n          (drop): Identity()\n          (act): Identity()\n        )\n        (drop_path): Identity()\n      )\n    )\n    (2): Sequential(\n      (0): InvertedResidual(\n        (conv_pw): Conv2d(24, 144, kernel_size=(1, 1), stride=(1, 1), bias=False)\n        (bn1): BatchNormAct2d(\n          144, eps=1e-05, momentum=0.1, affine=True, track_running_stats=True\n          (drop): Identity()\n          (act): SiLU(inplace=True)\n        )\n        (conv_dw): Conv2d(144, 144, kernel_size=(5, 5), stride=(2, 2), padding=(2, 2), groups=144, bias=False)\n        (bn2): BatchNormAct2d(\n          144, eps=1e-05, momentum=0.1, affine=True, track_running_stats=True\n          (drop): Identity()\n          (act): SiLU(inplace=True)\n        )\n        (se): SqueezeExcite(\n          (conv_reduce): Conv2d(144, 6, kernel_size=(1, 1), stride=(1, 1))\n          (act1): SiLU(inplace=True)\n          (conv_expand): Conv2d(6, 144, kernel_size=(1, 1), stride=(1, 1))\n          (gate): Sigmoid()\n        )\n        (conv_pwl): Conv2d(144, 40, kernel_size=(1, 1), stride=(1, 1), bias=False)\n        (bn3): BatchNormAct2d(\n          40, eps=1e-05, momentum=0.1, affine=True, track_running_stats=True\n          (drop): Identity()\n          (act): Identity()\n        )\n        (drop_path): Identity()\n      )\n      (1): InvertedResidual(\n        (conv_pw): Conv2d(40, 240, kernel_size=(1, 1), stride=(1, 1), bias=False)\n        (bn1): BatchNormAct2d(\n          240, eps=1e-05, momentum=0.1, affine=True, track_running_stats=True\n          (drop): Identity()\n          (act): SiLU(inplace=True)\n        )\n        (conv_dw): Conv2d(240, 240, kernel_size=(5, 5), stride=(1, 1), padding=(2, 2), groups=240, bias=False)\n        (bn2): BatchNormAct2d(\n          240, eps=1e-05, momentum=0.1, affine=True, track_running_stats=True\n          (drop): Identity()\n          (act): SiLU(inplace=True)\n        )\n        (se): SqueezeExcite(\n          (conv_reduce): Conv2d(240, 10, kernel_size=(1, 1), stride=(1, 1))\n          (act1): SiLU(inplace=True)\n          (conv_expand): Conv2d(10, 240, kernel_size=(1, 1), stride=(1, 1))\n          (gate): Sigmoid()\n        )\n        (conv_pwl): Conv2d(240, 40, kernel_size=(1, 1), stride=(1, 1), bias=False)\n        (bn3): BatchNormAct2d(\n          40, eps=1e-05, momentum=0.1, affine=True, track_running_stats=True\n          (drop): Identity()\n          (act): Identity()\n        )\n        (drop_path): Identity()\n      )\n    )\n    (3): Sequential(\n      (0): InvertedResidual(\n        (conv_pw): Conv2d(40, 240, kernel_size=(1, 1), stride=(1, 1), bias=False)\n        (bn1): BatchNormAct2d(\n          240, eps=1e-05, momentum=0.1, affine=True, track_running_stats=True\n          (drop): Identity()\n          (act): SiLU(inplace=True)\n        )\n        (conv_dw): Conv2d(240, 240, kernel_size=(3, 3), stride=(2, 2), padding=(1, 1), groups=240, bias=False)\n        (bn2): BatchNormAct2d(\n          240, eps=1e-05, momentum=0.1, affine=True, track_running_stats=True\n          (drop): Identity()\n          (act): SiLU(inplace=True)\n        )\n        (se): SqueezeExcite(\n          (conv_reduce): Conv2d(240, 10, kernel_size=(1, 1), stride=(1, 1))\n          (act1): SiLU(inplace=True)\n          (conv_expand): Conv2d(10, 240, kernel_size=(1, 1), stride=(1, 1))\n          (gate): Sigmoid()\n        )\n        (conv_pwl): Conv2d(240, 80, kernel_size=(1, 1), stride=(1, 1), bias=False)\n        (bn3): BatchNormAct2d(\n          80, eps=1e-05, momentum=0.1, affine=True, track_running_stats=True\n          (drop): Identity()\n          (act): Identity()\n        )\n        (drop_path): Identity()\n      )\n      (1): InvertedResidual(\n        (conv_pw): Conv2d(80, 480, kernel_size=(1, 1), stride=(1, 1), bias=False)\n        (bn1): BatchNormAct2d(\n          480, eps=1e-05, momentum=0.1, affine=True, track_running_stats=True\n          (drop): Identity()\n          (act): SiLU(inplace=True)\n        )\n        (conv_dw): Conv2d(480, 480, kernel_size=(3, 3), stride=(1, 1), padding=(1, 1), groups=480, bias=False)\n        (bn2): BatchNormAct2d(\n          480, eps=1e-05, momentum=0.1, affine=True, track_running_stats=True\n          (drop): Identity()\n          (act): SiLU(inplace=True)\n        )\n        (se): SqueezeExcite(\n          (conv_reduce): Conv2d(480, 20, kernel_size=(1, 1), stride=(1, 1))\n          (act1): SiLU(inplace=True)\n          (conv_expand): Conv2d(20, 480, kernel_size=(1, 1), stride=(1, 1))\n          (gate): Sigmoid()\n        )\n        (conv_pwl): Conv2d(480, 80, kernel_size=(1, 1), stride=(1, 1), bias=False)\n        (bn3): BatchNormAct2d(\n          80, eps=1e-05, momentum=0.1, affine=True, track_running_stats=True\n          (drop): Identity()\n          (act): Identity()\n        )\n        (drop_path): Identity()\n      )\n      (2): InvertedResidual(\n        (conv_pw): Conv2d(80, 480, kernel_size=(1, 1), stride=(1, 1), bias=False)\n        (bn1): BatchNormAct2d(\n          480, eps=1e-05, momentum=0.1, affine=True, track_running_stats=True\n          (drop): Identity()\n          (act): SiLU(inplace=True)\n        )\n        (conv_dw): Conv2d(480, 480, kernel_size=(3, 3), stride=(1, 1), padding=(1, 1), groups=480, bias=False)\n        (bn2): BatchNormAct2d(\n          480, eps=1e-05, momentum=0.1, affine=True, track_running_stats=True\n          (drop): Identity()\n          (act): SiLU(inplace=True)\n        )\n        (se): SqueezeExcite(\n          (conv_reduce): Conv2d(480, 20, kernel_size=(1, 1), stride=(1, 1))\n          (act1): SiLU(inplace=True)\n          (conv_expand): Conv2d(20, 480, kernel_size=(1, 1), stride=(1, 1))\n          (gate): Sigmoid()\n        )\n        (conv_pwl): Conv2d(480, 80, kernel_size=(1, 1), stride=(1, 1), bias=False)\n        (bn3): BatchNormAct2d(\n          80, eps=1e-05, momentum=0.1, affine=True, track_running_stats=True\n          (drop): Identity()\n          (act): Identity()\n        )\n        (drop_path): Identity()\n      )\n    )\n    (4): Sequential(\n      (0): InvertedResidual(\n        (conv_pw): Conv2d(80, 480, kernel_size=(1, 1), stride=(1, 1), bias=False)\n        (bn1): BatchNormAct2d(\n          480, eps=1e-05, momentum=0.1, affine=True, track_running_stats=True\n          (drop): Identity()\n          (act): SiLU(inplace=True)\n        )\n        (conv_dw): Conv2d(480, 480, kernel_size=(5, 5), stride=(1, 1), padding=(2, 2), groups=480, bias=False)\n        (bn2): BatchNormAct2d(\n          480, eps=1e-05, momentum=0.1, affine=True, track_running_stats=True\n          (drop): Identity()\n          (act): SiLU(inplace=True)\n        )\n        (se): SqueezeExcite(\n          (conv_reduce): Conv2d(480, 20, kernel_size=(1, 1), stride=(1, 1))\n          (act1): SiLU(inplace=True)\n          (conv_expand): Conv2d(20, 480, kernel_size=(1, 1), stride=(1, 1))\n          (gate): Sigmoid()\n        )\n        (conv_pwl): Conv2d(480, 112, kernel_size=(1, 1), stride=(1, 1), bias=False)\n        (bn3): BatchNormAct2d(\n          112, eps=1e-05, momentum=0.1, affine=True, track_running_stats=True\n          (drop): Identity()\n          (act): Identity()\n        )\n        (drop_path): Identity()\n      )\n      (1): InvertedResidual(\n        (conv_pw): Conv2d(112, 672, kernel_size=(1, 1), stride=(1, 1), bias=False)\n        (bn1): BatchNormAct2d(\n          672, eps=1e-05, momentum=0.1, affine=True, track_running_stats=True\n          (drop): Identity()\n          (act): SiLU(inplace=True)\n        )\n        (conv_dw): Conv2d(672, 672, kernel_size=(5, 5), stride=(1, 1), padding=(2, 2), groups=672, bias=False)\n        (bn2): BatchNormAct2d(\n          672, eps=1e-05, momentum=0.1, affine=True, track_running_stats=True\n          (drop): Identity()\n          (act): SiLU(inplace=True)\n        )\n        (se): SqueezeExcite(\n          (conv_reduce): Conv2d(672, 28, kernel_size=(1, 1), stride=(1, 1))\n          (act1): SiLU(inplace=True)\n          (conv_expand): Conv2d(28, 672, kernel_size=(1, 1), stride=(1, 1))\n          (gate): Sigmoid()\n        )\n        (conv_pwl): Conv2d(672, 112, kernel_size=(1, 1), stride=(1, 1), bias=False)\n        (bn3): BatchNormAct2d(\n          112, eps=1e-05, momentum=0.1, affine=True, track_running_stats=True\n          (drop): Identity()\n          (act): Identity()\n        )\n        (drop_path): Identity()\n      )\n      (2): InvertedResidual(\n        (conv_pw): Conv2d(112, 672, kernel_size=(1, 1), stride=(1, 1), bias=False)\n        (bn1): BatchNormAct2d(\n          672, eps=1e-05, momentum=0.1, affine=True, track_running_stats=True\n          (drop): Identity()\n          (act): SiLU(inplace=True)\n        )\n        (conv_dw): Conv2d(672, 672, kernel_size=(5, 5), stride=(1, 1), padding=(2, 2), groups=672, bias=False)\n        (bn2): BatchNormAct2d(\n          672, eps=1e-05, momentum=0.1, affine=True, track_running_stats=True\n          (drop): Identity()\n          (act): SiLU(inplace=True)\n        )\n        (se): SqueezeExcite(\n          (conv_reduce): Conv2d(672, 28, kernel_size=(1, 1), stride=(1, 1))\n          (act1): SiLU(inplace=True)\n          (conv_expand): Conv2d(28, 672, kernel_size=(1, 1), stride=(1, 1))\n          (gate): Sigmoid()\n        )\n        (conv_pwl): Conv2d(672, 112, kernel_size=(1, 1), stride=(1, 1), bias=False)\n        (bn3): BatchNormAct2d(\n          112, eps=1e-05, momentum=0.1, affine=True, track_running_stats=True\n          (drop): Identity()\n          (act): Identity()\n        )\n        (drop_path): Identity()\n      )\n    )\n    (5): Sequential(\n      (0): InvertedResidual(\n        (conv_pw): Conv2d(112, 672, kernel_size=(1, 1), stride=(1, 1), bias=False)\n        (bn1): BatchNormAct2d(\n          672, eps=1e-05, momentum=0.1, affine=True, track_running_stats=True\n          (drop): Identity()\n          (act): SiLU(inplace=True)\n        )\n        (conv_dw): Conv2d(672, 672, kernel_size=(5, 5), stride=(2, 2), padding=(2, 2), groups=672, bias=False)\n        (bn2): BatchNormAct2d(\n          672, eps=1e-05, momentum=0.1, affine=True, track_running_stats=True\n          (drop): Identity()\n          (act): SiLU(inplace=True)\n        )\n        (se): SqueezeExcite(\n          (conv_reduce): Conv2d(672, 28, kernel_size=(1, 1), stride=(1, 1))\n          (act1): SiLU(inplace=True)\n          (conv_expand): Conv2d(28, 672, kernel_size=(1, 1), stride=(1, 1))\n          (gate): Sigmoid()\n        )\n        (conv_pwl): Conv2d(672, 192, kernel_size=(1, 1), stride=(1, 1), bias=False)\n        (bn3): BatchNormAct2d(\n          192, eps=1e-05, momentum=0.1, affine=True, track_running_stats=True\n          (drop): Identity()\n          (act): Identity()\n        )\n        (drop_path): Identity()\n      )\n      (1): InvertedResidual(\n        (conv_pw): Conv2d(192, 1152, kernel_size=(1, 1), stride=(1, 1), bias=False)\n        (bn1): BatchNormAct2d(\n          1152, eps=1e-05, momentum=0.1, affine=True, track_running_stats=True\n          (drop): Identity()\n          (act): SiLU(inplace=True)\n        )\n        (conv_dw): Conv2d(1152, 1152, kernel_size=(5, 5), stride=(1, 1), padding=(2, 2), groups=1152, bias=False)\n        (bn2): BatchNormAct2d(\n          1152, eps=1e-05, momentum=0.1, affine=True, track_running_stats=True\n          (drop): Identity()\n          (act): SiLU(inplace=True)\n        )\n        (se): SqueezeExcite(\n          (conv_reduce): Conv2d(1152, 48, kernel_size=(1, 1), stride=(1, 1))\n          (act1): SiLU(inplace=True)\n          (conv_expand): Conv2d(48, 1152, kernel_size=(1, 1), stride=(1, 1))\n          (gate): Sigmoid()\n        )\n        (conv_pwl): Conv2d(1152, 192, kernel_size=(1, 1), stride=(1, 1), bias=False)\n        (bn3): BatchNormAct2d(\n          192, eps=1e-05, momentum=0.1, affine=True, track_running_stats=True\n          (drop): Identity()\n          (act): Identity()\n        )\n        (drop_path): Identity()\n      )\n      (2): InvertedResidual(\n        (conv_pw): Conv2d(192, 1152, kernel_size=(1, 1), stride=(1, 1), bias=False)\n        (bn1): BatchNormAct2d(\n          1152, eps=1e-05, momentum=0.1, affine=True, track_running_stats=True\n          (drop): Identity()\n          (act): SiLU(inplace=True)\n        )\n        (conv_dw): Conv2d(1152, 1152, kernel_size=(5, 5), stride=(1, 1), padding=(2, 2), groups=1152, bias=False)\n        (bn2): BatchNormAct2d(\n          1152, eps=1e-05, momentum=0.1, affine=True, track_running_stats=True\n          (drop): Identity()\n          (act): SiLU(inplace=True)\n        )\n        (se): SqueezeExcite(\n          (conv_reduce): Conv2d(1152, 48, kernel_size=(1, 1), stride=(1, 1))\n          (act1): SiLU(inplace=True)\n          (conv_expand): Conv2d(48, 1152, kernel_size=(1, 1), stride=(1, 1))\n          (gate): Sigmoid()\n        )\n        (conv_pwl): Conv2d(1152, 192, kernel_size=(1, 1), stride=(1, 1), bias=False)\n        (bn3): BatchNormAct2d(\n          192, eps=1e-05, momentum=0.1, affine=True, track_running_stats=True\n          (drop): Identity()\n          (act): Identity()\n        )\n        (drop_path): Identity()\n      )\n      (3): InvertedResidual(\n        (conv_pw): Conv2d(192, 1152, kernel_size=(1, 1), stride=(1, 1), bias=False)\n        (bn1): BatchNormAct2d(\n          1152, eps=1e-05, momentum=0.1, affine=True, track_running_stats=True\n          (drop): Identity()\n          (act): SiLU(inplace=True)\n        )\n        (conv_dw): Conv2d(1152, 1152, kernel_size=(5, 5), stride=(1, 1), padding=(2, 2), groups=1152, bias=False)\n        (bn2): BatchNormAct2d(\n          1152, eps=1e-05, momentum=0.1, affine=True, track_running_stats=True\n          (drop): Identity()\n          (act): SiLU(inplace=True)\n        )\n        (se): SqueezeExcite(\n          (conv_reduce): Conv2d(1152, 48, kernel_size=(1, 1), stride=(1, 1))\n          (act1): SiLU(inplace=True)\n          (conv_expand): Conv2d(48, 1152, kernel_size=(1, 1), stride=(1, 1))\n          (gate): Sigmoid()\n        )\n        (conv_pwl): Conv2d(1152, 192, kernel_size=(1, 1), stride=(1, 1), bias=False)\n        (bn3): BatchNormAct2d(\n          192, eps=1e-05, momentum=0.1, affine=True, track_running_stats=True\n          (drop): Identity()\n          (act): Identity()\n        )\n        (drop_path): Identity()\n      )\n    )\n    (6): Sequential(\n      (0): InvertedResidual(\n        (conv_pw): Conv2d(192, 1152, kernel_size=(1, 1), stride=(1, 1), bias=False)\n        (bn1): BatchNormAct2d(\n          1152, eps=1e-05, momentum=0.1, affine=True, track_running_stats=True\n          (drop): Identity()\n          (act): SiLU(inplace=True)\n        )\n        (conv_dw): Conv2d(1152, 1152, kernel_size=(3, 3), stride=(1, 1), padding=(1, 1), groups=1152, bias=False)\n        (bn2): BatchNormAct2d(\n          1152, eps=1e-05, momentum=0.1, affine=True, track_running_stats=True\n          (drop): Identity()\n          (act): SiLU(inplace=True)\n        )\n        (se): SqueezeExcite(\n          (conv_reduce): Conv2d(1152, 48, kernel_size=(1, 1), stride=(1, 1))\n          (act1): SiLU(inplace=True)\n          (conv_expand): Conv2d(48, 1152, kernel_size=(1, 1), stride=(1, 1))\n          (gate): Sigmoid()\n        )\n        (conv_pwl): Conv2d(1152, 320, kernel_size=(1, 1), stride=(1, 1), bias=False)\n        (bn3): BatchNormAct2d(\n          320, eps=1e-05, momentum=0.1, affine=True, track_running_stats=True\n          (drop): Identity()\n          (act): Identity()\n        )\n        (drop_path): Identity()\n      )\n    )\n  )\n  (conv_head): Conv2d(320, 1280, kernel_size=(1, 1), stride=(1, 1), bias=False)\n  (bn2): BatchNormAct2d(\n    1280, eps=1e-05, momentum=0.1, affine=True, track_running_stats=True\n    (drop): Identity()\n    (act): SiLU(inplace=True)\n  )\n  (global_pool): SelectAdaptivePool2d (pool_type=avg, flatten=Flatten(start_dim=1, end_dim=-1))\n  (classifier): Linear(in_features=1280, out_features=10, bias=True)\n)"
     },
     "execution_count": 360,
     "metadata": {},
     "output_type": "execute_result"
    }
   ],
   "source": [
    "model"
   ],
   "metadata": {
    "collapsed": false
   }
  },
  {
   "cell_type": "code",
   "execution_count": 361,
   "outputs": [
    {
     "data": {
      "text/plain": "{'url': 'https://github.com/rwightman/pytorch-image-models/releases/download/v0.1-weights/efficientnet_b0_ra-3dd342df.pth',\n 'hf_hub_id': 'timm/efficientnet_b0.ra_in1k',\n 'architecture': 'efficientnet_b0',\n 'tag': 'ra_in1k',\n 'custom_load': False,\n 'input_size': (3, 224, 224),\n 'fixed_input_size': False,\n 'interpolation': 'bicubic',\n 'crop_pct': 0.875,\n 'crop_mode': 'center',\n 'mean': (0.485, 0.456, 0.406),\n 'std': (0.229, 0.224, 0.225),\n 'num_classes': 1000,\n 'pool_size': (7, 7),\n 'first_conv': 'conv_stem',\n 'classifier': 'classifier'}"
     },
     "execution_count": 361,
     "metadata": {},
     "output_type": "execute_result"
    }
   ],
   "source": [
    "model.default_cfg"
   ],
   "metadata": {
    "collapsed": false
   }
  },
  {
   "cell_type": "code",
   "execution_count": 125,
   "outputs": [
    {
     "data": {
      "text/plain": "tensor([[ 1.3654e-04, -6.3149e-05,  2.3090e-04, -1.4228e-04,  1.0160e-04,\n         -4.9103e-04, -7.2727e-05,  1.5651e-04,  2.0577e-04,  3.3913e-04]],\n       grad_fn=<MmBackward0>)"
     },
     "execution_count": 125,
     "metadata": {},
     "output_type": "execute_result"
    }
   ],
   "source": [
    "model(torch.randn((1, 3, 32, 32)))"
   ],
   "metadata": {
    "collapsed": false
   }
  },
  {
   "cell_type": "code",
   "execution_count": 122,
   "outputs": [
    {
     "data": {
      "text/plain": "ClassifierHead(\n  (global_pool): SelectAdaptivePool2d (pool_type=avg, flatten=Flatten(start_dim=1, end_dim=-1))\n  (drop): Dropout(p=0.0, inplace=False)\n  (fc): Sequential(\n    (0): BatchNorm1d(1024, eps=1e-05, momentum=0.1, affine=True, track_running_stats=True)\n    (1): Linear(in_features=1024, out_features=512, bias=False)\n    (2): ReLU()\n    (3): BatchNorm1d(512, eps=1e-05, momentum=0.1, affine=True, track_running_stats=True)\n    (4): Dropout(p=0.5, inplace=False)\n    (5): Linear(in_features=512, out_features=10, bias=False)\n  )\n  (flatten): Identity()\n)"
     },
     "execution_count": 122,
     "metadata": {},
     "output_type": "execute_result"
    }
   ],
   "source": [
    "model.head"
   ],
   "metadata": {
    "collapsed": false
   }
  },
  {
   "cell_type": "code",
   "execution_count": 113,
   "outputs": [],
   "source": [
    "# Custom final layer\n",
    "num_in_features = model.get_classifier().in_features\n",
    "model.head.fc = nn.Sequential(\n",
    "    nn.BatchNorm1d(num_in_features),\n",
    "    nn.Linear(in_features=num_in_features, out_features=512, bias=False),\n",
    "    nn.ReLU(),\n",
    "    nn.BatchNorm1d(512),\n",
    "    nn.Dropout(0.5),\n",
    "    nn.Linear(in_features=512, out_features=num_classes, bias=False)\n",
    ")"
   ],
   "metadata": {
    "collapsed": false
   }
  },
  {
   "cell_type": "code",
   "execution_count": 114,
   "outputs": [
    {
     "data": {
      "text/plain": "torch.Size([1, 10])"
     },
     "execution_count": 114,
     "metadata": {},
     "output_type": "execute_result"
    }
   ],
   "source": [
    "model.eval()\n",
    "model(torch.randn(1, 3, 256, 256)).shape"
   ],
   "metadata": {
    "collapsed": false
   }
  },
  {
   "cell_type": "code",
   "execution_count": 115,
   "outputs": [
    {
     "data": {
      "text/plain": "[{'num_chs': 64, 'reduction': 4, 'module': 'stages.0'},\n {'num_chs': 128, 'reduction': 8, 'module': 'stages.1'},\n {'num_chs': 256, 'reduction': 16, 'module': 'stages.2'},\n {'num_chs': 512, 'reduction': 32, 'module': 'stages.3'}]"
     },
     "execution_count": 115,
     "metadata": {},
     "output_type": "execute_result"
    }
   ],
   "source": [
    "model.feature_info"
   ],
   "metadata": {
    "collapsed": false
   }
  },
  {
   "cell_type": "code",
   "execution_count": 43,
   "outputs": [],
   "source": [
    "# Exporting to TorchScript\n",
    "model = timm.create_model(\"fastvit_s12\", scriptable=True)\n",
    "model.eval()\n",
    "scripted_model = torch.jit.script(model)"
   ],
   "metadata": {
    "collapsed": false
   }
  },
  {
   "cell_type": "code",
   "execution_count": 45,
   "outputs": [
    {
     "data": {
      "text/plain": "5e-06"
     },
     "execution_count": 45,
     "metadata": {},
     "output_type": "execute_result"
    }
   ],
   "source": [
    "5e-6"
   ],
   "metadata": {
    "collapsed": false
   }
  },
  {
   "cell_type": "code",
   "execution_count": null,
   "outputs": [],
   "source": [],
   "metadata": {
    "collapsed": false
   }
  }
 ],
 "metadata": {
  "kernelspec": {
   "display_name": "Python 3",
   "language": "python",
   "name": "python3"
  },
  "language_info": {
   "codemirror_mode": {
    "name": "ipython",
    "version": 2
   },
   "file_extension": ".py",
   "mimetype": "text/x-python",
   "name": "python",
   "nbconvert_exporter": "python",
   "pygments_lexer": "ipython2",
   "version": "2.7.6"
  }
 },
 "nbformat": 4,
 "nbformat_minor": 0
}
